{
 "cells": [
  {
   "cell_type": "code",
   "execution_count": 3,
   "id": "80e8190c-7672-4389-a88b-554c4b048633",
   "metadata": {},
   "outputs": [],
   "source": [
    "import pandas as pd \n",
    "import numpy as np "
   ]
  },
  {
   "cell_type": "markdown",
   "id": "73b477a8-2edc-4b6b-bb00-8848d16bea4a",
   "metadata": {},
   "source": [
    "#### 1) Sort Colors"
   ]
  },
  {
   "cell_type": "code",
   "execution_count": 3,
   "id": "9759922d-14bf-45fe-856a-f1ee8d852724",
   "metadata": {},
   "outputs": [
    {
     "name": "stdout",
     "output_type": "stream",
     "text": [
      "[0, 0, 1, 1, 2, 2]\n"
     ]
    }
   ],
   "source": [
    "def sortColors(nums):\n",
    "    low, mid, high = 0, 0, len(nums) - 1\n",
    "\n",
    "    while mid <= high:\n",
    "        if nums[mid] == 0:\n",
    "            nums[low], nums[mid] = nums[mid], nums[low]\n",
    "            low += 1\n",
    "            mid += 1\n",
    "        elif nums[mid] == 1:\n",
    "            mid += 1\n",
    "        else:\n",
    "            nums[mid], nums[high] = nums[high], nums[mid]\n",
    "            high -= 1\n",
    "\n",
    "nums = [2, 0, 2, 1, 1, 0]\n",
    "sortColors(nums)\n",
    "print(nums)"
   ]
  },
  {
   "cell_type": "markdown",
   "id": "ac454bda-311f-403d-b65e-3606ab4a50a0",
   "metadata": {},
   "source": [
    "#### 2) Sort the Sentence"
   ]
  },
  {
   "cell_type": "code",
   "execution_count": 5,
   "id": "8139644c-393e-4ba3-9b10-4025c6f992eb",
   "metadata": {},
   "outputs": [
    {
     "data": {
      "text/plain": [
       "'This is a sentence'"
      ]
     },
     "execution_count": 5,
     "metadata": {},
     "output_type": "execute_result"
    }
   ],
   "source": [
    "def sortSentence(sentence: str) -> str:\n",
    "        words = sentence.split()      \n",
    "        sorted_words = [None] * len(words)\n",
    "        for word in words:\n",
    "            index = int(word[-1]) - 1\n",
    "            sorted_words[index] = word[:-1]\n",
    "        return ' '.join(sorted_words)\n",
    "        \n",
    "\n",
    "s = \"is2 sentence4 This1 a3\"\n",
    "sortSentence(s)"
   ]
  },
  {
   "cell_type": "markdown",
   "id": "0ea786aa-db43-40ba-9280-96853b3e2910",
   "metadata": {},
   "source": [
    "#### 3) Minimum Number Game"
   ]
  },
  {
   "cell_type": "code",
   "execution_count": 2,
   "id": "1c7a9e19-6bd1-4b65-a7e3-9120ac5d513a",
   "metadata": {},
   "outputs": [
    {
     "name": "stdout",
     "output_type": "stream",
     "text": [
      "[2, 3, 4, 5]\n"
     ]
    }
   ],
   "source": [
    "def playGame(nums):\n",
    "    nums.sort()\n",
    "    arr = []\n",
    "    alice_turn = True\n",
    "\n",
    "    while nums:\n",
    "        if alice_turn:\n",
    "            min_elem = nums.pop(0)\n",
    "            arr.append(min_elem)\n",
    "        else:\n",
    "            min_elem = nums.pop(0)\n",
    "            arr.append(min_elem)\n",
    "\n",
    "        alice_turn = not alice_turn\n",
    "\n",
    "    return arr\n",
    "\n",
    "nums = [5, 4, 2, 3]\n",
    "result = playGame(nums)\n",
    "print(result)"
   ]
  },
  {
   "cell_type": "markdown",
   "id": "2d749b29-2c44-4a44-be73-fcb88ac366bf",
   "metadata": {},
   "source": [
    "#### 4) Average Salary Excluding the Minimum and Maximum"
   ]
  },
  {
   "cell_type": "code",
   "execution_count": 6,
   "id": "383fa374-eb21-420d-9c08-d14bd7a60fbf",
   "metadata": {},
   "outputs": [
    {
     "data": {
      "text/plain": [
       "4000.0"
      ]
     },
     "execution_count": 6,
     "metadata": {},
     "output_type": "execute_result"
    }
   ],
   "source": [
    "from typing import List\n",
    "def average(salary: List[int]) -> int:\n",
    "    s = sum(salary) - min(salary) - max(salary)\n",
    "    return s / (len(salary) - 2)\n",
    "\n",
    "list = [5000.0, 6000.0, 3000.0, 2000.0]\n",
    "average(list)"
   ]
  },
  {
   "cell_type": "markdown",
   "id": "a44e3d6c-888c-4650-a879-f2d6a79628d0",
   "metadata": {},
   "source": [
    "#### 5) Sort Even and Odd Indices Independently"
   ]
  },
  {
   "cell_type": "code",
   "execution_count": 7,
   "id": "77d3c5b7-9280-4b22-9d42-71c3c83f5edb",
   "metadata": {},
   "outputs": [
    {
     "data": {
      "text/plain": [
       "[1, 9, 3, 6, 4, 2]"
      ]
     },
     "execution_count": 7,
     "metadata": {},
     "output_type": "execute_result"
    }
   ],
   "source": [
    "def sortEvenOdd(nums):\n",
    "        even = sorted(nums[::2])  \n",
    "        odd = sorted(nums[1::2], reverse=True)  \n",
    "        res = []\n",
    "\n",
    "        for i in range(len(nums)):\n",
    "            if i % 2 == 0:\n",
    "                res.append(even.pop(0)) \n",
    "            else:\n",
    "                res.append(odd.pop(0))  \n",
    "\n",
    "        return res\n",
    "    \n",
    "nums = [3,6,4,9,1,2]\n",
    "sortEvenOdd(nums)"
   ]
  },
  {
   "cell_type": "markdown",
   "id": "adf08e6f-e301-4ea9-9403-022ab00e3666",
   "metadata": {},
   "source": [
    "#### 6) K Weakest Rows in a Matrix"
   ]
  },
  {
   "cell_type": "code",
   "execution_count": 3,
   "id": "00b4678a-5f13-401c-808a-bd2ab3a0abfb",
   "metadata": {},
   "outputs": [
    {
     "name": "stdout",
     "output_type": "stream",
     "text": [
      "[2, 0, 3]\n"
     ]
    }
   ],
   "source": [
    "def kWeakestRows(mat, k):\n",
    "    strength = []\n",
    "    \n",
    "    for i in range(len(mat)):\n",
    "        soldier_count = sum(mat[i])\n",
    "        strength.append((soldier_count, i))\n",
    "    \n",
    "    strength.sort()\n",
    "    \n",
    "    weakest_rows = []\n",
    "    for i in range(k):\n",
    "        weakest_rows.append(strength[i][1])\n",
    "\n",
    "    \n",
    "    return weakest_rows\n",
    "\n",
    "mat = [\n",
    "    [1, 1, 0, 0, 0],\n",
    "    [1, 1, 1, 1, 0],\n",
    "    [1, 0, 0, 0, 0],\n",
    "    [1, 1, 0, 0, 0],\n",
    "    [1, 1, 1, 1, 1]\n",
    "]\n",
    "k = 3\n",
    "print(kWeakestRows(mat, k)) "
   ]
  },
  {
   "cell_type": "markdown",
   "id": "8a86cc11-6705-4c03-9195-82856a556988",
   "metadata": {},
   "source": [
    "#### 7) Squares of a Sorted Array"
   ]
  },
  {
   "cell_type": "code",
   "execution_count": 15,
   "id": "22a3c713-3a80-4a42-8ab2-30668e0c0f6f",
   "metadata": {},
   "outputs": [
    {
     "name": "stdout",
     "output_type": "stream",
     "text": [
      "[9, 81, 36, 16, 25]\n"
     ]
    }
   ],
   "source": [
    "def sortedSquares(nums):\n",
    "        n = len(nums)\n",
    "        result = [0] * n\n",
    "        left, right = 0, n - 1\n",
    "\n",
    "        for i in range(n - 1, -1, -1):\n",
    "            if abs(nums[left]) > abs(nums[right]):\n",
    "                result[i] = nums[left] ** 2\n",
    "                left += 1\n",
    "            else:\n",
    "                result[i] = nums[right] ** 2\n",
    "                right -= 1\n",
    "\n",
    "        return result\n",
    "\n",
    "arr = [4,6,-9,3,5]\n",
    "print(sortedSquares(arr))"
   ]
  },
  {
   "cell_type": "markdown",
   "id": "3201abfa-de02-47a5-8b8e-88c011903c4d",
   "metadata": {},
   "source": [
    "#### 8) Height Checker"
   ]
  },
  {
   "cell_type": "code",
   "execution_count": 4,
   "id": "e2d16863-4cf9-46b0-8aa3-3e57b513522e",
   "metadata": {},
   "outputs": [
    {
     "name": "stdout",
     "output_type": "stream",
     "text": [
      "3\n"
     ]
    }
   ],
   "source": [
    "def heightChecker(heights):\n",
    "    expected = sorted(heights)\n",
    "    count = 0\n",
    "    \n",
    "    for i in range(len(heights)):\n",
    "        if heights[i] != expected[i]:\n",
    "            count += 1\n",
    "    \n",
    "    return count\n",
    "\n",
    "heights = [1, 1, 4, 2, 1, 3]\n",
    "result = heightChecker(heights)\n",
    "print(result)  "
   ]
  },
  {
   "cell_type": "markdown",
   "id": "208ce220-109e-45b4-8998-68c547572cab",
   "metadata": {},
   "source": [
    "#### 9) Relative Ranks"
   ]
  },
  {
   "cell_type": "code",
   "execution_count": 5,
   "id": "0e31c957-993f-4fa6-bb04-69a716fb158a",
   "metadata": {},
   "outputs": [
    {
     "name": "stdout",
     "output_type": "stream",
     "text": [
      "['Silver Medal', 'Bronze Medal', 'Gold Medal']\n"
     ]
    }
   ],
   "source": [
    "def findRelativeRanks(score):\n",
    "    sorted_one = sorted(score, reverse=True)\n",
    "\n",
    "    answer = [\"\"] * len(score)\n",
    "\n",
    "    rank_ = {\n",
    "        sorted_one[0]: \"Gold Medal\",\n",
    "        sorted_one[1]: \"Silver Medal\",\n",
    "        sorted_one[2]: \"Bronze Medal\",\n",
    "    }\n",
    "\n",
    "    for i in range(len(score)):\n",
    "        s = score[i]\n",
    "        if s in rank_:\n",
    "            answer[i] = rank_[s]\n",
    "        else:\n",
    "            answer[i] = str(sorted_one.index(s) + 1)\n",
    "\n",
    "    return answer\n",
    "\n",
    "\n",
    "score = [10,3, 23]\n",
    "print(findRelativeRanks(score))"
   ]
  },
  {
   "cell_type": "markdown",
   "id": "c7e540b4-0405-40ad-ba3f-9b07442d246e",
   "metadata": {},
   "source": [
    "#### 10) [Find Target Indices After Sorting Array]"
   ]
  },
  {
   "cell_type": "code",
   "execution_count": 6,
   "id": "7f34e300-f6d8-4b46-865f-ebb1214f6bfc",
   "metadata": {},
   "outputs": [
    {
     "name": "stdout",
     "output_type": "stream",
     "text": [
      "[1, 3, 0, 2, 4]\n"
     ]
    }
   ],
   "source": [
    "def findTargetIndices(nums):\n",
    "    sorted_nums = sorted(nums)\n",
    "\n",
    "    index_map = {}\n",
    "\n",
    "    for i in range(len(nums)):\n",
    "        num = nums[i]\n",
    "        index_map[num] = i\n",
    "\n",
    "    target_indices = []\n",
    "\n",
    "    for num in sorted_nums:\n",
    "        target_indices.append(index_map[num])\n",
    "\n",
    "    return target_indices\n",
    "\n",
    "\n",
    "nums = [3, 1, 4, 2, 10]\n",
    "indices = findTargetIndices(nums)\n",
    "print(indices)"
   ]
  },
  {
   "cell_type": "markdown",
   "id": "f10f55a1-f638-4d0f-8e44-652386dabf70",
   "metadata": {},
   "source": [
    "#### 11) Special Array with X elements Greater than or equal X"
   ]
  },
  {
   "cell_type": "code",
   "execution_count": 7,
   "id": "257af304-446f-45d3-85cb-2b13a4413ced",
   "metadata": {},
   "outputs": [
    {
     "name": "stdout",
     "output_type": "stream",
     "text": [
      "6\n"
     ]
    }
   ],
   "source": [
    "def special_array(nums):\n",
    "    nums.sort()    \n",
    "    for i in range(len(nums)):\n",
    "        count = len(nums) - i\n",
    "        if count == nums[i]:\n",
    "            return count\n",
    "    \n",
    "    return -1\n",
    "\n",
    "nums = [3, 5, 6, 7, 7, 8, 8, 9]\n",
    "result = special_array(nums)\n",
    "print(result)  \n"
   ]
  },
  {
   "cell_type": "markdown",
   "id": "46a89380-51be-421d-9e05-0cdc65384b02",
   "metadata": {},
   "source": [
    "#### 12) Buy Two Chocolates"
   ]
  },
  {
   "cell_type": "code",
   "execution_count": 8,
   "id": "99a840ef-4cad-4a4c-b16c-c9ecfab314ca",
   "metadata": {},
   "outputs": [
    {
     "name": "stdout",
     "output_type": "stream",
     "text": [
      "8\n"
     ]
    }
   ],
   "source": [
    "def buy_two_chocolates(prices, budget):\n",
    "    prices.sort()\n",
    "    left, right = 0, len(prices) - 1\n",
    "    min_sum = float('inf')\n",
    "    \n",
    "    while left < right:\n",
    "        current_sum = prices[left] + prices[right]\n",
    "        \n",
    "        if current_sum <= budget:\n",
    "            min_sum = min(min_sum, current_sum)\n",
    "            left += 1  \n",
    "        else:\n",
    "            right -= 1  \n",
    "    \n",
    "    return min_sum if min_sum != float('inf') else -1\n",
    "\n",
    "\n",
    "prices = [3, 5, 8, 2, 10]\n",
    "budget = 10\n",
    "result = buy_two_chocolates(prices, budget)\n",
    "print(result)  \n"
   ]
  },
  {
   "cell_type": "markdown",
   "id": "8530b1f8-7708-4037-a479-fca6ea51cd36",
   "metadata": {},
   "source": [
    "#### 13) How many numbers are smaller than the current"
   ]
  },
  {
   "cell_type": "code",
   "execution_count": 7,
   "id": "5fdf4aab-38fe-49c2-9a58-d4b6b7d7b318",
   "metadata": {},
   "outputs": [
    {
     "data": {
      "text/plain": [
       "[4, 3, 2, 5, 0, 1]"
      ]
     },
     "execution_count": 7,
     "metadata": {},
     "output_type": "execute_result"
    }
   ],
   "source": [
    "from typing import List\n",
    "def smallerNumbersThanCurrent(nums: List[int]) -> List[int]:\n",
    "    result = []\n",
    "    for i in nums:\n",
    "        count = 0\n",
    "        for j in nums:\n",
    "            if j < i:\n",
    "                count += 1\n",
    "        result.append(count)\n",
    "    return result\n",
    "\n",
    "arr = [7,5,3,8,0,1]\n",
    "smallerNumbersThanCurrent(arr)"
   ]
  },
  {
   "cell_type": "markdown",
   "id": "b6871979-d0b8-433b-b059-b6e469481953",
   "metadata": {},
   "source": [
    "#### 14) Sort Array by Increasing Frequency"
   ]
  },
  {
   "cell_type": "code",
   "execution_count": null,
   "id": "3ba9ba22-b310-4926-aa14-8f8feb3455ef",
   "metadata": {},
   "outputs": [],
   "source": []
  },
  {
   "cell_type": "markdown",
   "id": "1588937f-343d-4cbc-b642-3d392691bfe4",
   "metadata": {},
   "source": [
    "#### 15) Set Mismatch"
   ]
  },
  {
   "cell_type": "code",
   "execution_count": 10,
   "id": "6fe4ef12-dbea-4b72-aa9e-311f05d71332",
   "metadata": {},
   "outputs": [
    {
     "name": "stdout",
     "output_type": "stream",
     "text": [
      "[2, 3]\n"
     ]
    }
   ],
   "source": [
    "def findErrorNums(nums):\n",
    "    n = len(nums)\n",
    "    \n",
    "    expected_sum = n * (n + 1) // 2\n",
    "    expected_sum_sq = n * (n + 1) * (2 * n + 1) // 6\n",
    "    \n",
    "    actual_sum = sum(nums)\n",
    "    actual_sum_sq = sum(x * x for x in nums)\n",
    "    \n",
    "    sum_diff = expected_sum - actual_sum\n",
    "    sum_sq_diff = expected_sum_sq - actual_sum_sq\n",
    "    \n",
    "\n",
    "    missing_plus_duplicate = sum_sq_diff // sum_diff\n",
    "    \n",
    "    missing = (sum_diff + missing_plus_duplicate) // 2\n",
    "    duplicate = missing_plus_duplicate - missing\n",
    "    \n",
    "    return [duplicate, missing]\n",
    "\n",
    "nums = [1, 2, 2, 4]\n",
    "result = findErrorNums(nums)\n",
    "print(result)  \n"
   ]
  },
  {
   "cell_type": "markdown",
   "id": "b8d7a2f0-6f53-4a2b-ab0f-316934fd3045",
   "metadata": {},
   "source": [
    "#### 16) Find all numbers disappeared in an array"
   ]
  },
  {
   "cell_type": "code",
   "execution_count": 11,
   "id": "9983bc1c-5ddb-4dd2-8537-abcf4459a966",
   "metadata": {},
   "outputs": [
    {
     "name": "stdout",
     "output_type": "stream",
     "text": [
      "[5, 6]\n"
     ]
    }
   ],
   "source": [
    "def findDisappearedNumbers(nums):\n",
    "    for num in nums:\n",
    "        index = abs(num) - 1\n",
    "        nums[index] = -abs(nums[index])\n",
    "    \n",
    "    missing_numbers = [i + 1 for i in range(len(nums)) if nums[i] > 0]\n",
    "    \n",
    "    return missing_numbers\n",
    "\n",
    "nums = [4, 3, 2, 7, 8, 2, 3, 1]\n",
    "result = findDisappearedNumbers(nums)\n",
    "print(result)  \n"
   ]
  },
  {
   "cell_type": "markdown",
   "id": "4a37058e-0e25-424f-8dd0-1c9f9724675c",
   "metadata": {},
   "source": [
    "#### 17) Find the Duplicate number"
   ]
  },
  {
   "cell_type": "code",
   "execution_count": 14,
   "id": "728abcc8-45b3-4b46-bb2e-893c7f686a4e",
   "metadata": {},
   "outputs": [
    {
     "name": "stdout",
     "output_type": "stream",
     "text": [
      "1\n"
     ]
    }
   ],
   "source": [
    "def findDuplicate(nums):\n",
    "        slow = fast = nums[0]\n",
    "        while True:\n",
    "            slow = nums[slow]\n",
    "            fast = nums[nums[fast]]\n",
    "            if slow == fast:\n",
    "                break\n",
    "\n",
    "        slow = nums[0]\n",
    "        while slow != fast:\n",
    "            slow = nums[slow]\n",
    "            fast = nums[fast]\n",
    "\n",
    "        return slow\n",
    "\n",
    "num = [1,2,3,4,5,1]\n",
    "print(findDuplicate(num))"
   ]
  },
  {
   "cell_type": "markdown",
   "id": "3c5f3f5a-7a08-46bb-940c-3ac76ff53f43",
   "metadata": {},
   "source": [
    "#### 18) Find All Duplicates in an Array"
   ]
  },
  {
   "cell_type": "code",
   "execution_count": 10,
   "id": "5bea9094-d4f6-4da5-b60f-089129735c2d",
   "metadata": {},
   "outputs": [
    {
     "name": "stdout",
     "output_type": "stream",
     "text": [
      "[2, 3]\n"
     ]
    }
   ],
   "source": [
    "def findDuplicates(nums):\n",
    "    res = []\n",
    "    for x in nums:\n",
    "        if nums[abs(x) - 1] < 0:\n",
    "            res.append(abs(x))\n",
    "        else:\n",
    "            nums[abs(x) - 1] *= -1\n",
    "    return res\n",
    "\n",
    "nums = [4,3,2,7,8,2,3,1]\n",
    "print(findDuplicates(nums))"
   ]
  },
  {
   "cell_type": "markdown",
   "id": "5be0c599-fa78-4997-845a-8d5968339743",
   "metadata": {},
   "source": [
    "#### 19) Missing Number"
   ]
  },
  {
   "cell_type": "code",
   "execution_count": 12,
   "id": "0c55a273-9748-4574-83dc-aa885926a27c",
   "metadata": {},
   "outputs": [
    {
     "data": {
      "text/plain": [
       "2"
      ]
     },
     "execution_count": 12,
     "metadata": {},
     "output_type": "execute_result"
    }
   ],
   "source": [
    "from typing import List\n",
    "def missingNumber(nums: List[int]) -> int:\n",
    "        nums.sort()\n",
    "        if nums[-1] !=len(nums):\n",
    "          return len(nums)\n",
    "        elif nums[0] != 0:\n",
    "          return 0\n",
    "        for i in range(1, len(nums)):\n",
    "          expected_num = nums[i-1] + 1\n",
    "          if nums[i] != expected_num:\n",
    "            return expected_num\n",
    "\n",
    "list = [3,0,1]\n",
    "missingNumber(list)"
   ]
  }
 ],
 "metadata": {
  "kernelspec": {
   "display_name": "Python 3 (ipykernel)",
   "language": "python",
   "name": "python3"
  },
  "language_info": {
   "codemirror_mode": {
    "name": "ipython",
    "version": 3
   },
   "file_extension": ".py",
   "mimetype": "text/x-python",
   "name": "python",
   "nbconvert_exporter": "python",
   "pygments_lexer": "ipython3",
   "version": "3.11.7"
  }
 },
 "nbformat": 4,
 "nbformat_minor": 5
}
