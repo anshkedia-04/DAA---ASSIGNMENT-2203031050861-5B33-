{
 "cells": [
  {
   "cell_type": "markdown",
   "id": "a6dbbdfd-4b32-458f-82ed-38995382fbd4",
   "metadata": {},
   "source": [
    "#### 1) You are given an array of integers and an integer k. Your task is to select k elements from the array such that their sum is maximized"
   ]
  },
  {
   "cell_type": "code",
   "execution_count": 35,
   "id": "945db084-36e0-4bfa-a0bc-003c24b5ff40",
   "metadata": {},
   "outputs": [
    {
     "data": {
      "text/plain": [
       "21"
      ]
     },
     "execution_count": 35,
     "metadata": {},
     "output_type": "execute_result"
    }
   ],
   "source": [
    "def max_sum_elements(arr, k):\n",
    "    arr.sort(reverse=True)\n",
    "    return sum(arr[:k])\n",
    "\n",
    "list = [3,5,7,9,2,1]\n",
    "k = 3\n",
    "max_sum_elements(list,k)"
   ]
  },
  {
   "cell_type": "markdown",
   "id": "e401956b-f063-4794-9d82-ebc3c9f12a32",
   "metadata": {},
   "source": [
    "#### 2) Lemonade Change"
   ]
  },
  {
   "cell_type": "code",
   "execution_count": 3,
   "id": "8a6c102b-b419-47ff-950a-3464220c6fd4",
   "metadata": {},
   "outputs": [],
   "source": [
    "from typing import List \n",
    "class Solution:\n",
    "    def lemonadeChange(self, bills: List[int]) -> bool:\n",
    "        five, ten = 0, 0\n",
    "        for bill in bills:\n",
    "            if bill == 5:\n",
    "                five += 1\n",
    "            elif bill == 10:\n",
    "                if five < 1:\n",
    "                    return False\n",
    "                five -= 1\n",
    "                ten += 1\n",
    "            else:\n",
    "                if ten > 0 and five > 0:\n",
    "                    ten -= 1\n",
    "                    five -= 1\n",
    "                elif five > 2:\n",
    "                    five -= 3\n",
    "                else:\n",
    "                    return False\n",
    "        return True"
   ]
  },
  {
   "cell_type": "markdown",
   "id": "508f1f27-246b-4d34-8d31-6ea4635504ff",
   "metadata": {},
   "source": [
    "#### 3) Check if possible to survive on island"
   ]
  },
  {
   "cell_type": "code",
   "execution_count": 4,
   "id": "94035698-1be3-4eb0-b857-07590815394e",
   "metadata": {},
   "outputs": [],
   "source": [
    "def min_days_to_survive(N, S, M):\n",
    "    total_food_required = S * M\n",
    "    if total_food_required > N * (S - 1):\n",
    "        return -1  \n",
    "    else:\n",
    "        return -(-total_food_required // N)  \n",
    "\n"
   ]
  },
  {
   "cell_type": "markdown",
   "id": "778eafbb-177e-49e3-9a21-ddc2450c07a5",
   "metadata": {},
   "source": [
    "#### 4) Shortest Job First"
   ]
  },
  {
   "cell_type": "code",
   "execution_count": 5,
   "id": "d98a1524-745c-40e3-822d-bf27ea0c5b77",
   "metadata": {},
   "outputs": [],
   "source": [
    "def average_waiting_time(bt):\n",
    "    n = len(bt)\n",
    "    bt.sort()\n",
    "    waiting_time = 0\n",
    "    total_waiting_time = 0\n",
    "    for i in range(n):\n",
    "        total_waiting_time += waiting_time\n",
    "        waiting_time += bt[i]\n",
    "    return total_waiting_time // n"
   ]
  },
  {
   "cell_type": "markdown",
   "id": "b3a5a075-860a-4166-89a9-62d92ce836c9",
   "metadata": {},
   "source": [
    "#### 5) Fractional Knapsack"
   ]
  },
  {
   "cell_type": "code",
   "execution_count": 6,
   "id": "616df1c9-bebb-42df-a7cd-95f69f31d755",
   "metadata": {},
   "outputs": [],
   "source": [
    "class Item:\n",
    "    def __init__(self, wt, val, ind):\n",
    "        self.wt = wt\n",
    "        self.val = val\n",
    "        self.ind = ind\n",
    "        self.vwt = val / wt  \n",
    "\n",
    "def fractional_knapsack(w, items):\n",
    "    items.sort(key=lambda x: x.vwt, reverse=True) \n",
    "    total_value = 0.0\n",
    "    for item in items:\n",
    "        if item.wt <= w:\n",
    "            w -= item.wt\n",
    "            total_value += item.val\n",
    "        else:\n",
    "            total_value += item.val * w / item.wt\n",
    "            break\n",
    "    return total_value"
   ]
  },
  {
   "cell_type": "markdown",
   "id": "01d96d55-ed57-4218-aa5f-ff244fd08357",
   "metadata": {},
   "source": [
    "#### 6) Maximum Units on a Truck"
   ]
  },
  {
   "cell_type": "code",
   "execution_count": 7,
   "id": "e9de581c-b4e5-41aa-91f6-58968c30778d",
   "metadata": {},
   "outputs": [],
   "source": [
    "class Solution:\n",
    "    def maximumUnits(self, boxTypes: List[List[int]], truckSize: int) -> int:\n",
    "        boxTypes.sort(key=lambda x: x[1], reverse=True)\n",
    "        total_units = 0\n",
    "        for num_boxes, units_per_box in boxTypes:\n",
    "            if truckSize >= num_boxes:\n",
    "                total_units += num_boxes * units_per_box\n",
    "                truckSize -= num_boxes\n",
    "            else:\n",
    "                total_units += truckSize * units_per_box\n",
    "                break\n",
    "        return total_units"
   ]
  },
  {
   "cell_type": "markdown",
   "id": "0745b807-5ea2-4b74-9055-a172d1cf868f",
   "metadata": {},
   "source": [
    "#### 7) Chocolate Distribution\n"
   ]
  },
  {
   "cell_type": "code",
   "execution_count": 8,
   "id": "3b9a3d1f-d691-44e4-8700-b725149edd57",
   "metadata": {},
   "outputs": [],
   "source": [
    "def distribute_chocolates(A, M):\n",
    "    A.sort()\n",
    "    min_diff = float('inf')\n",
    "    for i in range(len(A) - M + 1):\n",
    "        diff = A[i + M - 1] - A[i]\n",
    "        min_diff = min(min_diff, diff)\n",
    "    return min_diff"
   ]
  },
  {
   "cell_type": "markdown",
   "id": "7fb01d35-c605-4d5c-bd8f-669a8a039011",
   "metadata": {},
   "source": [
    "#### 8) Shop in a Candy Store\n"
   ]
  },
  {
   "cell_type": "code",
   "execution_count": 9,
   "id": "673d74c7-b742-4cd6-9f36-b88342cbae2e",
   "metadata": {},
   "outputs": [],
   "source": [
    "def candy_store(prices, N, K):\n",
    "    prices.sort()\n",
    "    min_cost = prices[-1]\n",
    "    max_cost = sum(prices)\n",
    "    return min_cost, max_cost"
   ]
  },
  {
   "cell_type": "markdown",
   "id": "59db8e90-1e03-4db4-8301-b79256ac1e36",
   "metadata": {},
   "source": [
    "#### 9) Assign Cookies\n"
   ]
  },
  {
   "cell_type": "code",
   "execution_count": 10,
   "id": "ca1806d2-3292-4add-a3dc-7c2822c455c7",
   "metadata": {},
   "outputs": [],
   "source": [
    "class Solution:\n",
    "    def findContentChildren(self, g: List[int], s: List[int]) -> int:\n",
    "        g.sort()\n",
    "        s.sort()\n",
    "        child_i = 0\n",
    "        cookie_j = 0\n",
    "        while child_i < len(g) and cookie_j < len(s):\n",
    "            if s[cookie_j] >= g[child_i]:\n",
    "                child_i += 1\n",
    "            cookie_j += 1\n",
    "        return child_i"
   ]
  },
  {
   "cell_type": "markdown",
   "id": "68250a2e-3081-4061-a465-7e6ca56c7c14",
   "metadata": {},
   "source": [
    "#### 10) N Meetings in one Room\n"
   ]
  },
  {
   "cell_type": "code",
   "execution_count": 11,
   "id": "8a314429-9ace-42ac-aa7c-3c7008ac3294",
   "metadata": {},
   "outputs": [],
   "source": [
    "def max_meetings(meetings):\n",
    "    meetings.sort(key=lambda x: x[1])\n",
    "    end_time = -1\n",
    "    count = 0\n",
    "    for start, end in meetings:\n",
    "        if start > end_time:\n",
    "            end_time = end\n",
    "            count += 1\n",
    "    return count"
   ]
  },
  {
   "cell_type": "markdown",
   "id": "26758381-8fab-4604-adbd-8d6d1c4d1e26",
   "metadata": {},
   "source": [
    "#### 11) Find Maximum Meetings in One room"
   ]
  },
  {
   "cell_type": "code",
   "execution_count": 12,
   "id": "5128e161-96a9-4d11-966a-da28b3216640",
   "metadata": {},
   "outputs": [],
   "source": [
    "def maxMeetings(S, F):\n",
    "    n = len(S)\n",
    "    meetings = list(zip(S, F))\n",
    "    meetings.sort(key=lambda x: x[1])\n",
    "    ans = [1]\n",
    "    end = meetings[0][1]\n",
    "    for i in range(1, n):\n",
    "        if meetings[i][0] >= end:\n",
    "            ans.append(i + 1)\n",
    "            end = meetings[i][1]\n",
    "    return ans"
   ]
  },
  {
   "cell_type": "markdown",
   "id": "f3b4dc3a-d007-4ea2-a2a3-298353b8558e",
   "metadata": {},
   "source": [
    "#### 12) Non Overlapping Intervals\n"
   ]
  },
  {
   "cell_type": "code",
   "execution_count": 13,
   "id": "a2e87945-956a-4dfd-a1e8-945aef427858",
   "metadata": {},
   "outputs": [],
   "source": [
    "class Solution:\n",
    "    def eraseOverlapIntervals(self, intervals: List[List[int]]) -> int:\n",
    "        if not intervals:\n",
    "            return 0\n",
    "        intervals.sort(key=lambda x: x[1])\n",
    "        end = intervals[0][1]\n",
    "        count = 0\n",
    "        for i in range(1, len(intervals)):\n",
    "            if intervals[i][0] < end:\n",
    "                count += 1\n",
    "            else:\n",
    "                end = intervals[i][1]\n",
    "        return count\n",
    "        "
   ]
  },
  {
   "cell_type": "markdown",
   "id": "a552e2b4-e759-4832-a376-68ba7b724d92",
   "metadata": {},
   "source": [
    "#### 13) Insert Interval\n"
   ]
  },
  {
   "cell_type": "code",
   "execution_count": 14,
   "id": "6fd2717a-0649-4960-adef-750ad797589c",
   "metadata": {},
   "outputs": [],
   "source": [
    "class Solution:\n",
    "    def insert(self, intervals: List[List[int]], newInterval: List[int]) -> List[List[int]]:\n",
    "        result = []\n",
    "        i = 0\n",
    "        while i < len(intervals) and intervals[i][1] < newInterval[0]:\n",
    "            result.append(intervals[i])\n",
    "            i += 1\n",
    "        while i < len(intervals) and intervals[i][0] <= newInterval[1]:\n",
    "            newInterval[0] = min(newInterval[0], intervals[i][0])\n",
    "            newInterval[1] = max(newInterval[1], intervals[i][1])\n",
    "            i += 1\n",
    "        result.append(newInterval)\n",
    "        while i < len(intervals):\n",
    "            result.append(intervals[i])\n",
    "            i += 1\n",
    "        return result"
   ]
  },
  {
   "cell_type": "markdown",
   "id": "c3742ec1-2762-4e8e-a301-c463ad5b9b20",
   "metadata": {},
   "source": [
    "#### 14) Merge Intervals\n"
   ]
  },
  {
   "cell_type": "code",
   "execution_count": 15,
   "id": "56225b65-2a20-4b37-8519-125b4157a910",
   "metadata": {},
   "outputs": [],
   "source": [
    "class Solution:\n",
    "    def merge(self, intervals: List[List[int]]) -> List[List[int]]:\n",
    "        if not intervals:\n",
    "            return []\n",
    "        intervals.sort(key=lambda x: x[0])\n",
    "        result = [intervals[0]]\n",
    "        for interval in intervals[1:]:\n",
    "            if interval[0] <= result[-1][1]:\n",
    "                result[-1][1] = max(result[-1][1], interval[1])\n",
    "            else:\n",
    "                result.append(interval)\n",
    "        return result"
   ]
  },
  {
   "cell_type": "markdown",
   "id": "779a562d-f719-4404-8262-b78317480a17",
   "metadata": {},
   "source": [
    "#### 15) Job Sequencing Problem"
   ]
  },
  {
   "cell_type": "code",
   "execution_count": 16,
   "id": "c27c7921-cacb-4cde-9e4d-80fbd145bb46",
   "metadata": {},
   "outputs": [],
   "source": [
    "def job_scheduling(jobs):\n",
    "    jobs.sort(key=lambda x: x[2], reverse=True)\n",
    "\n",
    "    max_deadline = max(job[1] for job in jobs)\n",
    "    dp = [0] * (max_deadline + 1)\n",
    "\n",
    "    for job in jobs:\n",
    "        job_id, deadline, profit = job\n",
    "        for i in range(deadline, 0, -1):\n",
    "            dp[i] = max(dp[i], dp[i-1])\n",
    "            dp[i] = max(dp[i], dp[i-deadline] + profit)\n",
    "\n",
    "    max_profit = dp[max_deadline]\n",
    "    job_count = 0\n",
    "    i = max_deadline\n",
    "    while i > 0:\n",
    "        if dp[i] != dp[i-1]:\n",
    "            job_count += 1\n",
    "            i -= deadline\n",
    "        else:\n",
    "            i -= 1\n",
    "\n",
    "    return job_count, max_profit"
   ]
  },
  {
   "cell_type": "markdown",
   "id": "e4af711a-71ec-4c29-826d-909e5454eb9e",
   "metadata": {},
   "source": [
    "#### 16) Minimum Cost to Cut Ropes\n"
   ]
  },
  {
   "cell_type": "code",
   "execution_count": 17,
   "id": "a4604920-2320-4333-ae19-e766786005a0",
   "metadata": {},
   "outputs": [],
   "source": [
    "import heapq\n",
    "\n",
    "def min_cost_to_connect_ropes(arr):\n",
    "    heap = []\n",
    "    for rope in arr:\n",
    "        heapq.heappush(heap, rope)\n",
    "    total_cost = 0\n",
    "    while len(heap) > 1:\n",
    "        rope1 = heapq.heappop(heap)\n",
    "        rope2 = heapq.heappop(heap)\n",
    "        cost = rope1 + rope2\n",
    "        total_cost += cost\n",
    "        heapq.heappush(heap, cost)\n",
    "\n",
    "    return total_cost"
   ]
  },
  {
   "cell_type": "markdown",
   "id": "ffdf25bf-37a0-463a-8a06-7dc34b999c5c",
   "metadata": {},
   "source": [
    "#### 17) Jump Game\n"
   ]
  },
  {
   "cell_type": "code",
   "execution_count": 18,
   "id": "96747042-1a35-4095-8a71-8d390cc45a7e",
   "metadata": {},
   "outputs": [],
   "source": [
    "class Solution:\n",
    "    def canJump(self, nums: List[int]) -> bool:\n",
    "        max_reach = 0\n",
    "        for i in range(len(nums)):\n",
    "            if i > max_reach:\n",
    "                return False\n",
    "            max_reach = max(max_reach, i + nums[i])\n",
    "        return True"
   ]
  },
  {
   "cell_type": "markdown",
   "id": "a75c66f7-320b-4828-b275-cb9a68a7056f",
   "metadata": {},
   "source": [
    "#### 18) Jump Game II\n"
   ]
  },
  {
   "cell_type": "code",
   "execution_count": 19,
   "id": "7de2d6ba-cead-454e-a1eb-39e340663f07",
   "metadata": {},
   "outputs": [],
   "source": [
    "class Solution:\n",
    "    def jump(self, nums: List[int]) -> int:\n",
    "        jumps = 0\n",
    "        curr_end = 0\n",
    "        curr_farthest = 0\n",
    "        for i in range(len(nums) - 1):\n",
    "            if i <= curr_end:\n",
    "                curr_farthest = max(curr_farthest, i + nums[i])\n",
    "            if i == curr_end:\n",
    "                jumps += 1\n",
    "                curr_end = curr_farthest\n",
    "        return jumps"
   ]
  },
  {
   "cell_type": "markdown",
   "id": "87c8636f-4285-49ab-8302-510eaca85536",
   "metadata": {},
   "source": [
    "#### 19) Minimum Number of Platforms for Railway/Bus\n"
   ]
  },
  {
   "cell_type": "code",
   "execution_count": 20,
   "id": "9c288dc6-a1f1-4b42-94e8-6b7de37d842c",
   "metadata": {},
   "outputs": [],
   "source": [
    "import heapq\n",
    "\n",
    "def find_platforms(arr, dep):\n",
    "    arr.sort()\n",
    "    dep.sort()\n",
    "    platforms = 1\n",
    "    curr_platforms = 1\n",
    "    pq = [dep[0]]\n",
    "    i = 1\n",
    "    j = 1\n",
    "    while i < len(arr) and j < len(dep):\n",
    "        if arr[i] <= pq[0]:\n",
    "            i += 1\n",
    "            curr_platforms += 1\n",
    "            heapq.heappush(pq, dep[i - 1])\n",
    "        else:\n",
    "            heapq.heappop(pq)\n",
    "            curr_platforms -= 1\n",
    "            j += 1\n",
    "        platforms = max(platforms, curr_platforms)\n",
    "    return platforms"
   ]
  },
  {
   "cell_type": "markdown",
   "id": "4d10c4f1-aa4a-40c5-96c8-c116b36f10be",
   "metadata": {},
   "source": [
    "#### 20) Distribute Candy\n"
   ]
  },
  {
   "cell_type": "code",
   "execution_count": 21,
   "id": "be2b9004-a741-43e4-a3bc-fc87ac1b8b1f",
   "metadata": {},
   "outputs": [],
   "source": [
    "class Solution:\n",
    "    def candy(self, ratings: List[int]) -> int:\n",
    "        n = len(ratings)\n",
    "        candies = [1] * n\n",
    "        for i in range(1, n):\n",
    "            if ratings[i] > ratings[i - 1]:\n",
    "                candies[i] = candies[i - 1] + 1\n",
    "        for i in range(n - 2, -1, -1):\n",
    "            if ratings[i] > ratings[i + 1]:\n",
    "                candies[i] = max(candies[i], candies[i + 1] + 1)\n",
    "        return sum(candies)"
   ]
  },
  {
   "cell_type": "markdown",
   "id": "458f75c9-048f-403c-84d4-3da6a3b39d04",
   "metadata": {},
   "source": [
    "#### 21) Huffman Coding\n"
   ]
  },
  {
   "cell_type": "code",
   "execution_count": 22,
   "id": "05985b55-aa29-487d-ae4a-b830c2ab9379",
   "metadata": {},
   "outputs": [
    {
     "name": "stdout",
     "output_type": "stream",
     "text": [
      "b: 00\n",
      "d: 01\n",
      "f: 100\n",
      "e: 101\n",
      "a: 110\n",
      "c: 111\n"
     ]
    }
   ],
   "source": [
    "import heapq\n",
    "\n",
    "class Node:\n",
    "    def __init__(self, char, freq):\n",
    "        self.char = char\n",
    "        self.freq = freq\n",
    "        self.left = None\n",
    "        self.right = None\n",
    "\n",
    "    def __lt__(self, other):\n",
    "        return self.freq < other.freq\n",
    "\n",
    "def calculate_frequency(string):\n",
    "    frequency = {}\n",
    "    for char in string:\n",
    "        if char not in frequency:\n",
    "            frequency[char] = 0\n",
    "        frequency[char] += 1\n",
    "    return frequency\n",
    "\n",
    "def build_heap(frequency):\n",
    "    heap = []\n",
    "    for key in frequency:\n",
    "        node = Node(key, frequency[key])\n",
    "        heapq.heappush(heap, node)\n",
    "    return heap\n",
    "\n",
    "def merge_nodes(heap):\n",
    "    while len(heap) > 1:\n",
    "        node1 = heapq.heappop(heap)\n",
    "        node2 = heapq.heappop(heap)\n",
    "\n",
    "        merged = Node(None, node1.freq + node2.freq)\n",
    "        merged.left = node1\n",
    "        merged.right = node2\n",
    "\n",
    "        heapq.heappush(heap, merged)\n",
    "\n",
    "def build_codes_helper(root, current_code, codes):\n",
    "    if root == None:\n",
    "        return\n",
    "\n",
    "    if root.char != None:\n",
    "        codes[root.char] = current_code\n",
    "\n",
    "    build_codes_helper(root.left, current_code + \"0\", codes)\n",
    "    build_codes_helper(root.right, current_code + \"1\", codes)\n",
    "\n",
    "def build_codes(root):\n",
    "    codes = {}\n",
    "    build_codes_helper(root, \"\", codes)\n",
    "    return codes\n",
    "\n",
    "def print_codes(codes):\n",
    "    for char in codes:\n",
    "        print(f\"{char}: {codes[char]}\")\n",
    "\n",
    "def huffman_encoding(string):\n",
    "    frequency = calculate_frequency(string)\n",
    "    heap = build_heap(frequency)\n",
    "    merge_nodes(heap)\n",
    "\n",
    "    root = heap[0]\n",
    "    codes = build_codes(root)\n",
    "    print_codes(codes)\n",
    "\n",
    "string = \"abcdef\"\n",
    "huffman_encoding(string)"
   ]
  },
  {
   "cell_type": "markdown",
   "id": "eddd07b6-c8c5-4e07-91ae-91b66e12a4d8",
   "metadata": {},
   "source": [
    "#### 22) Assign Mice to Holes\n"
   ]
  },
  {
   "cell_type": "code",
   "execution_count": 23,
   "id": "6ca24d7d-556f-46a8-a065-082180aca936",
   "metadata": {},
   "outputs": [
    {
     "name": "stdout",
     "output_type": "stream",
     "text": [
      "4\n"
     ]
    }
   ],
   "source": [
    "def mice_holes(mice, holes):\n",
    "    mice.sort()\n",
    "    holes.sort()\n",
    "    max_time = 0\n",
    "    for i in range(len(mice)):\n",
    "        time = abs(mice[i] - holes[i])\n",
    "        max_time = max(max_time, time)\n",
    "    return max_time\n",
    "\n",
    "mice = [4, -4, 2]\n",
    "holes = [4, 0, 5]\n",
    "print(mice_holes(mice, holes))  "
   ]
  },
  {
   "cell_type": "markdown",
   "id": "4ed1f79a-5995-4418-8af2-1a0517a1b048",
   "metadata": {},
   "source": [
    "#### 23) Policeman Catch Theives\n"
   ]
  },
  {
   "cell_type": "code",
   "execution_count": 24,
   "id": "ab25bd28-a27e-4251-b875-e5888eca7e2f",
   "metadata": {},
   "outputs": [
    {
     "name": "stdout",
     "output_type": "stream",
     "text": [
      "3\n"
     ]
    }
   ],
   "source": [
    "def catch_thieves(arr, n, k):\n",
    "    policemen = []\n",
    "    thieves = []\n",
    "    \n",
    "    for i in range(n):\n",
    "        if arr[i] == 'P':\n",
    "            policemen.append(i)\n",
    "        else:\n",
    "            thieves.append(i)\n",
    "    \n",
    "    policemen.sort()\n",
    "    thieves.sort()\n",
    "    \n",
    "    i = j = 0\n",
    "    caught = 0\n",
    "    \n",
    "    while i < len(policemen) and j < len(thieves):\n",
    "        if abs(policemen[i] - thieves[j]) <= k:\n",
    "            caught += 1\n",
    "            i += 1\n",
    "            j += 1\n",
    "        else:\n",
    "            if policemen[i] < thieves[j]:\n",
    "                i += 1\n",
    "            else:\n",
    "                j += 1\n",
    "    \n",
    "    return caught\n",
    "\n",
    "arr = ['P', 'T', 'P', 'T', 'T', 'P']\n",
    "n = len(arr)\n",
    "k = 2\n",
    "print(catch_thieves(arr, n, k))"
   ]
  },
  {
   "cell_type": "markdown",
   "id": "12625cd7-9cdb-4a59-8f32-92831501404f",
   "metadata": {},
   "source": [
    "#### 24) K Items with the maximum sum\n"
   ]
  },
  {
   "cell_type": "code",
   "execution_count": 25,
   "id": "da38fb43-615f-47e2-92b2-80a58ef1f1db",
   "metadata": {},
   "outputs": [],
   "source": [
    "class Solution:\n",
    "    def kItemsWithMaximumSum(self, numOnes: int, numZeros: int, numNegOnes: int, k: int) -> int:\n",
    "        ones = [1] * numOnes\n",
    "        zeros = [0] * numZeros\n",
    "        neg_ones = [-1] * numNegOnes\n",
    "        items = ones + zeros + neg_ones\n",
    "        items.sort(reverse=True)\n",
    "        return sum(items[:k])"
   ]
  },
  {
   "cell_type": "markdown",
   "id": "058fcb05-2c6d-4e89-99e5-fb4f16af2946",
   "metadata": {},
   "source": [
    "#### 25) Valid Paranthesis Checker\n"
   ]
  },
  {
   "cell_type": "code",
   "execution_count": 26,
   "id": "ba662efa-4544-4875-8823-c9d06b68791d",
   "metadata": {},
   "outputs": [],
   "source": [
    "class Solution:\n",
    "    def checkValidString(self, s: str) -> bool:\n",
    "        n = len(s)\n",
    "        lo = hi = 0\n",
    "        for c in s:\n",
    "            lo += 1 if c == '(' else -1\n",
    "            hi += 1 if c != ')' else -1\n",
    "            if hi < 0:\n",
    "                return False\n",
    "            lo = max(lo, 0)\n",
    "        return lo == 0"
   ]
  },
  {
   "cell_type": "markdown",
   "id": "eefb39fc-3798-49d5-8ac2-744a5953cc5c",
   "metadata": {},
   "source": [
    "#### 26) Coin Change\n"
   ]
  },
  {
   "cell_type": "code",
   "execution_count": 27,
   "id": "2b80d81a-81fd-4811-88fa-b97aa26eb2e3",
   "metadata": {},
   "outputs": [
    {
     "name": "stdout",
     "output_type": "stream",
     "text": [
      "2\n"
     ]
    }
   ],
   "source": [
    "def minCoins(coins, V):\n",
    "    dp = [float('inf')] * (V + 1)\n",
    "    dp[0] = 0\n",
    "\n",
    "    for coin in coins:\n",
    "        for i in range(coin, V + 1):\n",
    "            dp[i] = min(dp[i], dp[i - coin] + 1)\n",
    "\n",
    "    return dp[V] if dp[V] != float('inf') else -1\n",
    "\n",
    "\n",
    "coins = [9, 6, 5, 1]\n",
    "V = 11\n",
    "print(minCoins(coins, V)) "
   ]
  },
  {
   "cell_type": "markdown",
   "id": "d331174d-e4f1-45a1-b6d1-9a1fd155bb36",
   "metadata": {},
   "source": [
    "#### 27) Minimum Platforms\n"
   ]
  },
  {
   "cell_type": "code",
   "execution_count": 28,
   "id": "f09b2cf2-691b-471a-9631-4ceaf8239b97",
   "metadata": {},
   "outputs": [
    {
     "name": "stdout",
     "output_type": "stream",
     "text": [
      "7\n"
     ]
    }
   ],
   "source": [
    "import heapq\n",
    "\n",
    "def find_platforms(arr, dep, n):\n",
    "    arr.sort()\n",
    "    dep.sort()\n",
    "    pq = []\n",
    "    for _ in range(n):\n",
    "        heapq.heappush(pq, dep[0])\n",
    "    min_platforms = 1\n",
    "    for i in range(n):\n",
    "        if arr[i] >= pq[0]:\n",
    "            heapq.heappop(pq)\n",
    "        heapq.heappush(pq, dep[i])\n",
    "        min_platforms = max(min_platforms, len(pq))\n",
    "    return min_platforms\n",
    "arr = [900, 940, 950, 1100, 1500, 1800]\n",
    "dep = [910, 1200, 1120, 1130, 1900, 2000]\n",
    "n = len(arr)\n",
    "print(find_platforms(arr, dep, n))"
   ]
  },
  {
   "cell_type": "markdown",
   "id": "63a6ab02-89e9-4e86-b429-3204f9e545a3",
   "metadata": {},
   "source": [
    "#### 28) Page Faults in LRU\n"
   ]
  },
  {
   "cell_type": "code",
   "execution_count": 29,
   "id": "7b201f6e-19b4-4e8b-8dca-b91531b42d65",
   "metadata": {},
   "outputs": [
    {
     "name": "stdout",
     "output_type": "stream",
     "text": [
      "6\n"
     ]
    }
   ],
   "source": [
    "from collections import OrderedDict\n",
    "\n",
    "def page_faults(pages, capacity):\n",
    "    page_faults = 0\n",
    "    cache = OrderedDict()\n",
    "\n",
    "    for page in pages:\n",
    "        if page not in cache:\n",
    "            page_faults += 1\n",
    "            if len(cache) == capacity:\n",
    "                cache.popitem(last=False)\n",
    "            cache[page] = None\n",
    "        else:\n",
    "            cache.move_to_end(page)\n",
    "\n",
    "    return page_faults\n",
    "\n",
    "pages = [7, 0, 1, 2, 0, 3, 0, 4, 2, 3, 0, 3, 2]\n",
    "capacity = 4\n",
    "print(page_faults(pages, capacity)) "
   ]
  },
  {
   "cell_type": "markdown",
   "id": "7c46f962-7aca-41d8-84df-76633198878d",
   "metadata": {},
   "source": [
    "#### 29) Disjoint Intervals\n"
   ]
  },
  {
   "cell_type": "code",
   "execution_count": 30,
   "id": "86f528d7-1f56-4f88-af63-290a69bac0ed",
   "metadata": {},
   "outputs": [
    {
     "name": "stdout",
     "output_type": "stream",
     "text": [
      "[(1, 6), [8, 10], [15, 18]]\n",
      "[(1, 5)]\n"
     ]
    }
   ],
   "source": [
    "def merge(intervals):\n",
    "    if not intervals:\n",
    "        return []\n",
    "\n",
    "    intervals.sort(key=lambda x: x[0])\n",
    "\n",
    "    merged = [intervals[0]]\n",
    "\n",
    "    for current in intervals:\n",
    "        last = merged[-1]\n",
    "\n",
    "        if current[0] <= last[1]:\n",
    "            merged[-1] = (last[0], max(last[1], current[1]))\n",
    "        else:\n",
    "            merged.append(current)\n",
    "\n",
    "    return merged\n",
    "\n",
    "intervals = [[1, 3], [2, 6], [8, 10], [15, 18]]\n",
    "print(merge(intervals)) \n",
    "intervals = [[1, 4], [4, 5]]\n",
    "print(merge(intervals))"
   ]
  },
  {
   "cell_type": "markdown",
   "id": "14d30169-9cfa-41b2-a760-b57aa092448e",
   "metadata": {},
   "source": [
    "#### 30) Largest Permutation\n"
   ]
  },
  {
   "cell_type": "code",
   "execution_count": 31,
   "id": "8a7b3e8a-751f-4a76-b593-70dcd37f7b61",
   "metadata": {},
   "outputs": [
    {
     "name": "stdout",
     "output_type": "stream",
     "text": [
      "[3]\n",
      "[5]\n"
     ]
    }
   ],
   "source": [
    "def largest_permutation(k, arr):\n",
    "    arr.sort(reverse=True)\n",
    "    res = []\n",
    "    for i in range(len(arr)):\n",
    "        if k >= arr[i]:\n",
    "            res.append(arr[i])\n",
    "            k -= arr[i]\n",
    "        else:\n",
    "            res.append(k)\n",
    "            break\n",
    "    return res\n",
    "\n",
    "k = 3\n",
    "arr = [2, 1, 4, 6, 8, 5]\n",
    "print(largest_permutation(k, arr))\n",
    "\n",
    "k = 5\n",
    "arr = [4, 4, 7, 5, 3]\n",
    "print(largest_permutation(k, arr))"
   ]
  },
  {
   "cell_type": "markdown",
   "id": "1f458364-5dbb-4b27-bbe2-d32f10f00d66",
   "metadata": {},
   "source": [
    "#### 31) Seats\n"
   ]
  },
  {
   "cell_type": "code",
   "execution_count": 32,
   "id": "b6f7e4a0-9e04-4da9-92de-08a44e0ed0a0",
   "metadata": {},
   "outputs": [
    {
     "name": "stdout",
     "output_type": "stream",
     "text": [
      "14\n"
     ]
    }
   ],
   "source": [
    "def min_jumps(seats):\n",
    "    n = len(seats)\n",
    "    MOD = 10**9 + 7\n",
    "\n",
    "    occupied = seats.count('x')\n",
    "\n",
    "    res = 0\n",
    "\n",
    "    left, right = 0, n - 1\n",
    "\n",
    "    while seats[left] == '.':\n",
    "        left += 1\n",
    "\n",
    "    while seats[right] == '.':\n",
    "        right -= 1\n",
    "\n",
    "    while left < right:\n",
    "        if seats[left] == 'x':\n",
    "            left += 1\n",
    "        if seats[right] == 'x':\n",
    "            right -= 1\n",
    "        res += (right - left) % MOD\n",
    "        left += 1\n",
    "        right -= 1\n",
    "\n",
    "    return res % MOD\n",
    "\n",
    "seats = \"....x..x.....x....\"\n",
    "print(min_jumps(seats)) "
   ]
  },
  {
   "cell_type": "markdown",
   "id": "1c8799b1-97b7-41d2-9071-2b8b504e4a30",
   "metadata": {},
   "source": [
    "#### 32) Gas Stations"
   ]
  },
  {
   "cell_type": "code",
   "execution_count": 33,
   "id": "36f521db-b3a6-4dcd-bed6-411ad51c84e0",
   "metadata": {},
   "outputs": [],
   "source": [
    "class Solution:\n",
    "    def canCompleteCircuit(self, gas: List[int], cost: List[int]) -> int:\n",
    "        n = len(gas)\n",
    "        tank = 0\n",
    "        total = 0\n",
    "        start = 0\n",
    "        for i in range(n):\n",
    "            tank += gas[i] - cost[i]\n",
    "            total += gas[i] - cost[i]\n",
    "            if tank < 0:\n",
    "                tank = 0\n",
    "                start = i + 1\n",
    "        if total < 0:\n",
    "            return -1\n",
    "        return start"
   ]
  }
 ],
 "metadata": {
  "kernelspec": {
   "display_name": "Python 3 (ipykernel)",
   "language": "python",
   "name": "python3"
  },
  "language_info": {
   "codemirror_mode": {
    "name": "ipython",
    "version": 3
   },
   "file_extension": ".py",
   "mimetype": "text/x-python",
   "name": "python",
   "nbconvert_exporter": "python",
   "pygments_lexer": "ipython3",
   "version": "3.11.7"
  }
 },
 "nbformat": 4,
 "nbformat_minor": 5
}
