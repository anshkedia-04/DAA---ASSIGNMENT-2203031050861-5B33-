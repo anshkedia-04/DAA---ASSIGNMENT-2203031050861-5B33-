{
 "cells": [
  {
   "cell_type": "code",
   "execution_count": 1,
   "id": "53e5409d-152d-4ed4-850c-e3388b8da448",
   "metadata": {},
   "outputs": [
    {
     "name": "stdin",
     "output_type": "stream",
     "text": [
      "Enter a number 57\n"
     ]
    },
    {
     "name": "stdout",
     "output_type": "stream",
     "text": [
      "Odd\n"
     ]
    }
   ],
   "source": [
    "# 1) Write a program to check is a given number is : even or odd\n",
    "a = int(input(\"Enter a number\"))\n",
    "if a%2==0:\n",
    "    print(\"Even\")\n",
    "else:\n",
    "    print(\"Odd\")"
   ]
  },
  {
   "cell_type": "code",
   "execution_count": 2,
   "id": "5b80a694-0934-4563-81a4-ae5977bcf2b0",
   "metadata": {},
   "outputs": [
    {
     "name": "stdin",
     "output_type": "stream",
     "text": [
      "Enter a number -56\n"
     ]
    },
    {
     "name": "stdout",
     "output_type": "stream",
     "text": [
      "Negative\n"
     ]
    }
   ],
   "source": [
    "# 1) Write a program to check is a given number is : positive and negative\n",
    "a = int(input(\"Enter a number\"))\n",
    "if a>0:\n",
    "    print(\"Positive\")\n",
    "else:\n",
    "    print(\"Negative\")"
   ]
  },
  {
   "cell_type": "code",
   "execution_count": 3,
   "id": "08935b5c-8d86-4f96-8ce9-3e9453398f44",
   "metadata": {},
   "outputs": [
    {
     "name": "stdin",
     "output_type": "stream",
     "text": [
      "Enter a number 12\n"
     ]
    },
    {
     "name": "stdout",
     "output_type": "stream",
     "text": [
      "The sum of first n natural numbers is 78\n"
     ]
    }
   ],
   "source": [
    "# 2) Write a program to calculate the sum of the first N natural numbers\n",
    "a = int(input(\"Enter a number\")) \n",
    "sum = 0\n",
    "while(a>0):\n",
    "    sum=sum+a\n",
    "    a=a-1\n",
    "print(\"The sum of first n natural numbers is\",sum)"
   ]
  },
  {
   "cell_type": "code",
   "execution_count": 4,
   "id": "c723cad1-c922-41c9-bc76-12918238869f",
   "metadata": {},
   "outputs": [
    {
     "name": "stdin",
     "output_type": "stream",
     "text": [
      "Enter: 5\n"
     ]
    },
    {
     "name": "stdout",
     "output_type": "stream",
     "text": [
      "120\n"
     ]
    }
   ],
   "source": [
    "# 3) Write a program to calculate the factorial of a given number\n",
    "n = int(input(\"Enter:\"))\n",
    "if n < 0:\n",
    "    print(\"Invalid\")\n",
    "elif n == 0 or n == 1:\n",
    "    print(1)\n",
    "else:\n",
    "    fact = 1\n",
    "    while(n > 1):\n",
    "        fact *= n\n",
    "        n -= 1\n",
    "       \n",
    "print(fact)"
   ]
  },
  {
   "cell_type": "code",
   "execution_count": 5,
   "id": "00a0a8ed-96e8-48ed-b149-1d951ccdd066",
   "metadata": {},
   "outputs": [
    {
     "name": "stdout",
     "output_type": "stream",
     "text": [
      "The factors are:\n",
      "1\n",
      "2\n",
      "4\n",
      "5\n",
      "10\n",
      "20\n"
     ]
    }
   ],
   "source": [
    "# 4) Write a program to find factors of a given number\n",
    "def factors(x):\n",
    "   print(\"The factors are:\")\n",
    "   for i in range(1, x + 1):\n",
    "       if x % i == 0:\n",
    "           print(i)\n",
    "\n",
    "num = 20\n",
    "factors(num)"
   ]
  },
  {
   "cell_type": "code",
   "execution_count": 6,
   "id": "6543af5d-172a-442c-b15c-74415f2eb874",
   "metadata": {},
   "outputs": [
    {
     "name": "stdin",
     "output_type": "stream",
     "text": [
      "Enter: 59\n"
     ]
    },
    {
     "name": "stdout",
     "output_type": "stream",
     "text": [
      "Prime\n"
     ]
    }
   ],
   "source": [
    "# 5) Write a program to check if an input number is prime or not\n",
    "a = int(input(\"Enter:\"))\n",
    "if a>1:\n",
    "    for i in range(2,a):\n",
    "        if(a%i==0):\n",
    "            print(\"Not prime\")\n",
    "            break\n",
    "    else:\n",
    "        print(\"Prime\")\n",
    "else:\n",
    "    print(\"Not prime\")"
   ]
  },
  {
   "cell_type": "code",
   "execution_count": 7,
   "id": "d41b8320-7661-4863-bbef-31192ef7e76d",
   "metadata": {},
   "outputs": [
    {
     "name": "stdout",
     "output_type": "stream",
     "text": [
      "1\n",
      "2\n",
      "3\n",
      "5\n",
      "8\n",
      "13\n",
      "21\n",
      "34\n",
      "55\n",
      "89\n",
      "\n"
     ]
    }
   ],
   "source": [
    "# 6) Write a program to generate the Fibonacci sequence up to a given number of terms\n",
    "n = 10\n",
    "n1 = 0\n",
    "n2 = 1\n",
    "next_number = n2 \n",
    "count = 1\n",
    "\n",
    "while count <= n:\n",
    "\tprint(next_number)\n",
    "\tcount += 1\n",
    "\tn1, n2 = n2, next_number\n",
    "\tnext_number = n1 + n2\n",
    "print()\n"
   ]
  },
  {
   "cell_type": "code",
   "execution_count": 8,
   "id": "d774f2b8-b903-4a3d-ba4d-2d5cfce8fe97",
   "metadata": {},
   "outputs": [
    {
     "name": "stdout",
     "output_type": "stream",
     "text": [
      "Not palindrome\n"
     ]
    }
   ],
   "source": [
    "# 7) Write a program to check if an input string is a palindrome\n",
    "a = \"Ansh Kedia\"\n",
    "b = a[::-1]\n",
    "\n",
    "if(a==b):\n",
    "    print(\"palindrome\")\n",
    "else:\n",
    "    print(\"Not palindrome\")"
   ]
  },
  {
   "cell_type": "code",
   "execution_count": 9,
   "id": "95cd8794-a9c4-4040-8779-de947eb28b08",
   "metadata": {},
   "outputs": [
    {
     "name": "stdin",
     "output_type": "stream",
     "text": [
      "Enter: 45\n"
     ]
    },
    {
     "name": "stdout",
     "output_type": "stream",
     "text": [
      "9\n"
     ]
    }
   ],
   "source": [
    "# 8) Write a program to find the sum of digits of an input number\n",
    "a = int(input(\"Enter:\"))\n",
    "sum = 0\n",
    "rem = 0\n",
    "while(a>0):\n",
    "    rem = a%10\n",
    "    a = a//10\n",
    "    sum = sum + rem \n",
    "print(sum)"
   ]
  },
  {
   "cell_type": "code",
   "execution_count": 13,
   "id": "acd82512-5a67-48d6-9437-90a9b0c5e38f",
   "metadata": {},
   "outputs": [
    {
     "name": "stdin",
     "output_type": "stream",
     "text": [
      "Enter: 153\n"
     ]
    },
    {
     "name": "stdout",
     "output_type": "stream",
     "text": [
      "Palindrome\n"
     ]
    }
   ],
   "source": [
    "# 9) Write a program to check if an input number is an Armstrong number\n",
    "a = int(input(\"Enter:\"))\n",
    "l = len(str(a))\n",
    "arm = 0\n",
    "temp = a\n",
    "while(temp>0):\n",
    "    rem = temp%10\n",
    "    temp = temp//10\n",
    "    arm += rem**l\n",
    "\n",
    "if(arm==a):\n",
    "    print(\"Palindrome\")\n",
    "else:\n",
    "    print(\"Not palindrome\")"
   ]
  },
  {
   "cell_type": "code",
   "execution_count": 16,
   "id": "ff855287-5618-44e9-8853-0f0f5275125c",
   "metadata": {},
   "outputs": [
    {
     "name": "stdin",
     "output_type": "stream",
     "text": [
      "Enter year 2024\n"
     ]
    },
    {
     "name": "stdout",
     "output_type": "stream",
     "text": [
      "Leap year\n"
     ]
    }
   ],
   "source": [
    "# 10) Write a program to check if an input year is a leap year\n",
    "year = int(input(\"Enter year\"))\n",
    "if(year%4==0):\n",
    "    print(\"Leap year\")\n",
    "else:\n",
    "    print(\"Not leap year\")"
   ]
  },
  {
   "cell_type": "code",
   "execution_count": 20,
   "id": "1b49e93f-27ff-4e0a-9340-5c144410d3f0",
   "metadata": {},
   "outputs": [
    {
     "name": "stdout",
     "output_type": "stream",
     "text": [
      "GCD is 12\n"
     ]
    }
   ],
   "source": [
    "# 11) Write a program to find the greatest common divisor (GCD) of two input numbers\n",
    "\n",
    "num1 = 36\n",
    "num2 = 60\n",
    "gcd = 1\n",
    " \n",
    "for i in range(1,min(num1, num2)):\n",
    "    if num1 % i == 0 and num2 % i == 0:\n",
    "        gcd = i\n",
    "print(\"GCD is\", gcd)"
   ]
  },
  {
   "cell_type": "code",
   "execution_count": 22,
   "id": "1110354e-f688-4ef9-ab7e-8c71f343e764",
   "metadata": {},
   "outputs": [
    {
     "name": "stdout",
     "output_type": "stream",
     "text": [
      "20.0\n"
     ]
    }
   ],
   "source": [
    "# 12) Write a program to find the least common multiple (LCM) of two input numbers\n",
    "num1 = 4\n",
    "num2 = 5\n",
    "gcd = 1\n",
    " \n",
    "for i in range(1,min(num1, num2)):\n",
    "    if num1 % i == 0 and num2 % i == 0:\n",
    "        gcd = i\n",
    "lcm = (num1*num2)/gcd\n",
    "print(lcm)"
   ]
  },
  {
   "cell_type": "code",
   "execution_count": 28,
   "id": "e3ca0349-4ed5-4e01-9aa4-cf01ea44de03",
   "metadata": {},
   "outputs": [
    {
     "name": "stdin",
     "output_type": "stream",
     "text": [
      "Enter string 1  ansh\n",
      "Enter string 2  kedia\n"
     ]
    },
    {
     "name": "stdout",
     "output_type": "stream",
     "text": [
      "Not anagram\n"
     ]
    }
   ],
   "source": [
    "# 13) Write a program to check two strings are anagrams\n",
    "a = input(\"Enter string 1 \")\n",
    "b = input(\"Enter string 2 \")\n",
    "if len(a)!=len(b):\n",
    "    print(\"Not anagram\")\n",
    "elif sorted(a)==sorted(b):\n",
    "    print(\"They are anagrams\")\n",
    "else:\n",
    "    print(\"Not anagrams\")"
   ]
  },
  {
   "cell_type": "code",
   "execution_count": 34,
   "id": "10d9945d-b9be-4e56-a08d-35f6b7b3e3a3",
   "metadata": {},
   "outputs": [
    {
     "name": "stdout",
     "output_type": "stream",
     "text": [
      "Missing number is: 6\n"
     ]
    }
   ],
   "source": [
    "# Leetcode question\n",
    "def find_missing_number(array):\n",
    "  numbers = set(array)\n",
    "  smallest_number = min(array)\n",
    "  largest_number = max(array)\n",
    "  for number in range(smallest_number, largest_number + 1):\n",
    "    if number not in numbers:\n",
    "      return number\n",
    "  return None\n",
    "array = [1, 2, 3, 4, 5, 7, 8, 9, 10]\n",
    "missing_number = find_missing_number(array)\n",
    "print(\"Missing number is:\", missing_number)"
   ]
  }
 ],
 "metadata": {
  "kernelspec": {
   "display_name": "Python 3 (ipykernel)",
   "language": "python",
   "name": "python3"
  },
  "language_info": {
   "codemirror_mode": {
    "name": "ipython",
    "version": 3
   },
   "file_extension": ".py",
   "mimetype": "text/x-python",
   "name": "python",
   "nbconvert_exporter": "python",
   "pygments_lexer": "ipython3",
   "version": "3.11.7"
  }
 },
 "nbformat": 4,
 "nbformat_minor": 5
}
