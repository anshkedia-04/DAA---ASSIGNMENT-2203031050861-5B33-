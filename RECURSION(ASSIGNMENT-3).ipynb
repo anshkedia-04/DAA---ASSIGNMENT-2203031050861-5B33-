{
 "cells": [
  {
   "cell_type": "markdown",
   "id": "30801c89-6b48-4b1e-ade7-2fa11082a405",
   "metadata": {},
   "source": [
    "#### 1) Compute the sum of digits of a number using recursion"
   ]
  },
  {
   "cell_type": "code",
   "execution_count": 1,
   "id": "054fe151-b41b-4572-bd20-9a1e1ee32132",
   "metadata": {},
   "outputs": [
    {
     "data": {
      "text/plain": [
       "7"
      ]
     },
     "execution_count": 1,
     "metadata": {},
     "output_type": "execute_result"
    }
   ],
   "source": [
    "def digits(n):\n",
    "    if n==0:\n",
    "        return 0\n",
    "    else:\n",
    "        return n % 10 + digits(n // 10)\n",
    "\n",
    "digits(34)"
   ]
  },
  {
   "cell_type": "markdown",
   "id": "72e396f2-9013-49e9-9acf-31c847416c53",
   "metadata": {},
   "source": [
    "#### 2) Compute the product of digits of a number using recursion"
   ]
  },
  {
   "cell_type": "code",
   "execution_count": 2,
   "id": "ace0e39b-b5ea-4c86-a1dd-3efb00dc6608",
   "metadata": {},
   "outputs": [
    {
     "data": {
      "text/plain": [
       "20"
      ]
     },
     "execution_count": 2,
     "metadata": {},
     "output_type": "execute_result"
    }
   ],
   "source": [
    "def digits1(n):\n",
    "    if n==0:\n",
    "        return 0\n",
    "    else:\n",
    "        return n % 10 * digits(n // 10)\n",
    "\n",
    "digits1(45)"
   ]
  },
  {
   "cell_type": "markdown",
   "id": "7e7ef8a1-a6e4-471e-b244-76b9bcc53f7c",
   "metadata": {},
   "source": [
    "#### 3) Given two numbers x and y find the product using recursion"
   ]
  },
  {
   "cell_type": "code",
   "execution_count": 4,
   "id": "09c2fead-2e23-4bca-893f-2a2b371a1bca",
   "metadata": {},
   "outputs": [
    {
     "name": "stdout",
     "output_type": "stream",
     "text": [
      "45\n"
     ]
    }
   ],
   "source": [
    "def recursive_multiply(x, y):\n",
    "    if y == 0:\n",
    "        return 0\n",
    "    elif y == 1:\n",
    "        return x\n",
    "    elif y > 1:\n",
    "        return x + recursive_multiply(x, y - 1)\n",
    "    elif y < 0:\n",
    "        return -recursive_multiply(x, -y)\n",
    "\n",
    "x = 5\n",
    "y = 9\n",
    "product = recursive_multiply(x, y)\n",
    "print(product)  \n"
   ]
  },
  {
   "cell_type": "markdown",
   "id": "882df0c2-e25a-4242-975d-75f11515de93",
   "metadata": {},
   "source": [
    "#### 4) Find the value of 'a' raised to the power 'b' using recursion"
   ]
  },
  {
   "cell_type": "code",
   "execution_count": 7,
   "id": "f7e4aa95-4793-47a4-9045-b8ecbd2606fc",
   "metadata": {},
   "outputs": [
    {
     "name": "stdout",
     "output_type": "stream",
     "text": [
      "64\n"
     ]
    }
   ],
   "source": [
    "def recursive_power(a, b):\n",
    "    if b == 0:\n",
    "        return 1\n",
    "    elif b == 1:\n",
    "        return a\n",
    "    elif b > 1:\n",
    "        return a * recursive_power(a, b - 1)\n",
    "    elif b < 0:\n",
    "        return 1 / recursive_power(a, -b)\n",
    "a = 2\n",
    "b = 6\n",
    "result = recursive_power(a, b)\n",
    "print(result) "
   ]
  },
  {
   "cell_type": "markdown",
   "id": "28f7116d-1721-4227-90ed-23dc54a4639d",
   "metadata": {},
   "source": [
    "#### 5) Convert decimal to binary using recursion"
   ]
  },
  {
   "cell_type": "code",
   "execution_count": 8,
   "id": "b4f0d55c-c136-44db-97c5-8835b8787b77",
   "metadata": {},
   "outputs": [
    {
     "name": "stdout",
     "output_type": "stream",
     "text": [
      "1001\n"
     ]
    }
   ],
   "source": [
    "def decimal_to_binary(n):\n",
    "    if n == 0:\n",
    "        return \"0\"\n",
    "    elif n == 1:\n",
    "        return \"1\"\n",
    "    else:\n",
    "        return decimal_to_binary(n // 2) + str(n % 2)\n",
    "\n",
    "n = 9\n",
    "binary_representation = decimal_to_binary(n)\n",
    "print(binary_representation)  \n"
   ]
  },
  {
   "cell_type": "markdown",
   "id": "a4dc249d-8f0e-4e9e-a47e-7f3acc03372e",
   "metadata": {},
   "source": [
    "#### 6) For any positive value of N, print 1 to N without using for or while loops via recursion (Countdown)"
   ]
  },
  {
   "cell_type": "code",
   "execution_count": 12,
   "id": "09631c30-d064-45f6-a87f-9e82cf8f5fc1",
   "metadata": {},
   "outputs": [
    {
     "name": "stdout",
     "output_type": "stream",
     "text": [
      "1\n",
      "2\n",
      "3\n",
      "4\n",
      "5\n",
      "6\n",
      "7\n",
      "8\n",
      "9\n",
      "10\n"
     ]
    }
   ],
   "source": [
    "def numbers(n):\n",
    "    if n == 1:\n",
    "        print(1)\n",
    "    else:\n",
    "        numbers(n - 1)\n",
    "        print(n)\n",
    "\n",
    "numbers(10)\n"
   ]
  },
  {
   "cell_type": "markdown",
   "id": "38611042-8d02-440b-bf61-e78075715398",
   "metadata": {},
   "source": [
    "#### 7) For any positive value of N, print N to 1 without using for or while loops via recursion (Countdown)"
   ]
  },
  {
   "cell_type": "code",
   "execution_count": 14,
   "id": "7ef1e540-3f66-4319-9ceb-88c5ac7d0c6c",
   "metadata": {},
   "outputs": [
    {
     "name": "stdout",
     "output_type": "stream",
     "text": [
      "7\n",
      "6\n",
      "5\n",
      "4\n",
      "3\n",
      "2\n",
      "1\n"
     ]
    }
   ],
   "source": [
    "def reverse_countdown(n):\n",
    "    if n < 1:\n",
    "        return\n",
    "    print(n)\n",
    "    reverse_countdown(n - 1)\n",
    "\n",
    "N = 7\n",
    "reverse_countdown(N)\n"
   ]
  },
  {
   "cell_type": "markdown",
   "id": "f6421375-b63b-4deb-a10b-1fe4ecc4e963",
   "metadata": {},
   "source": [
    "#### 8) Reverse a number using recursion"
   ]
  },
  {
   "cell_type": "code",
   "execution_count": 15,
   "id": "4be71cc0-4702-4873-8fc9-3cda90393d05",
   "metadata": {},
   "outputs": [
    {
     "data": {
      "text/plain": [
       "3565"
      ]
     },
     "execution_count": 15,
     "metadata": {},
     "output_type": "execute_result"
    }
   ],
   "source": [
    "def reverse(n1,n2=0):\n",
    "    if n1==0:\n",
    "        return n2\n",
    "    else :\n",
    "        return reverse(n1 // 10, n2 * 10 + n1 % 10)\n",
    "\n",
    "reverse(5653)"
   ]
  },
  {
   "cell_type": "markdown",
   "id": "31070104-e118-4ca8-86f9-a11dce678568",
   "metadata": {},
   "source": [
    "#### 9) Find length of string recursion"
   ]
  },
  {
   "cell_type": "code",
   "execution_count": 17,
   "id": "482618a6-2dc4-49ff-9c46-97678f6f1dbb",
   "metadata": {},
   "outputs": [
    {
     "name": "stdout",
     "output_type": "stream",
     "text": [
      "10\n"
     ]
    }
   ],
   "source": [
    "def length(s):\n",
    "    if s == \"\":\n",
    "        return 0\n",
    "    else:\n",
    "        return 1 + length(s[1:])\n",
    "\n",
    "s = \"Ansh Kedia\"\n",
    "l = length(s)\n",
    "print(l)  \n"
   ]
  },
  {
   "cell_type": "markdown",
   "id": "cdf2eb88-9370-4e2e-a106-3b72dfd424b0",
   "metadata": {},
   "source": [
    "#### 10) Reverse a string uing recursion"
   ]
  },
  {
   "cell_type": "code",
   "execution_count": 18,
   "id": "04a4a321-027d-408e-9a3f-a375f8da5d89",
   "metadata": {},
   "outputs": [
    {
     "data": {
      "text/plain": [
       "('Ansh', 'hsnA')"
      ]
     },
     "execution_count": 18,
     "metadata": {},
     "output_type": "execute_result"
    }
   ],
   "source": [
    "def reverse(a,b=\"\"):\n",
    "    if b==\" \":\n",
    "        return b\n",
    "    else:\n",
    "        return(a,a[::-1])\n",
    "\n",
    "reverse(\"Ansh\")"
   ]
  },
  {
   "cell_type": "markdown",
   "id": "d143f478-6354-42c6-a4ad-fecacbc12518",
   "metadata": {},
   "source": [
    "#### 11) Check is a String is Palindrome using recursion"
   ]
  },
  {
   "cell_type": "code",
   "execution_count": 19,
   "id": "4263e197-05ab-4cb2-8535-82c5c880ef9e",
   "metadata": {},
   "outputs": [
    {
     "name": "stdout",
     "output_type": "stream",
     "text": [
      "False\n"
     ]
    }
   ],
   "source": [
    "def is_palindrome(s):\n",
    "    if len(s) <= 1:\n",
    "        return True\n",
    "    if s[0] != s[-1]:\n",
    "        return False\n",
    "    return is_palindrome(s[1:-1])\n",
    "\n",
    "s = \"Ansh\"\n",
    "print(is_palindrome(s))  "
   ]
  },
  {
   "cell_type": "markdown",
   "id": "67b02d00-193b-4a4e-af95-f5cbc7d18310",
   "metadata": {},
   "source": [
    "#### 12) Compute sum of first N natural numbers using recursion"
   ]
  },
  {
   "cell_type": "code",
   "execution_count": 20,
   "id": "1e87b5f4-fabb-41a4-835d-fd9cc5839c1f",
   "metadata": {},
   "outputs": [
    {
     "data": {
      "text/plain": [
       "55"
      ]
     },
     "execution_count": 20,
     "metadata": {},
     "output_type": "execute_result"
    }
   ],
   "source": [
    "def num(n):\n",
    "    if n==0:\n",
    "        return 0\n",
    "    return n + num(n-1)\n",
    "num(10)"
   ]
  },
  {
   "cell_type": "markdown",
   "id": "eb20b637-23be-4875-bd64-ce02a26e2b53",
   "metadata": {},
   "source": [
    "#### 13) Pow(x,n)"
   ]
  },
  {
   "cell_type": "code",
   "execution_count": 25,
   "id": "61030a22-af9a-4260-a0d5-cf1ec3e73107",
   "metadata": {},
   "outputs": [],
   "source": [
    "def myPow(self, x, n):\n",
    "        \"\"\"\n",
    "        :type x: float\n",
    "        :type n: int\n",
    "        :rtype: float\n",
    "        \"\"\"\n",
    "        if x==0:\n",
    "            return 0\n",
    "\n",
    "        if n==0:\n",
    "            return 1\n",
    "\n",
    "        if n<0:\n",
    "            x = 1.0 / x\n",
    "            n = -n\n",
    "\n",
    "        if n==1:\n",
    "            return x\n",
    "\n",
    "        if n%2==1:\n",
    "            return x * self.myPow(x**2, n//2)\n",
    "        else:\n",
    "            return self.myPow(x**2, n//2)\n"
   ]
  },
  {
   "cell_type": "markdown",
   "id": "35baa73f-658b-4646-a75c-59db9eaa7385",
   "metadata": {},
   "source": [
    "#### 14) Power of Two"
   ]
  },
  {
   "cell_type": "code",
   "execution_count": 7,
   "id": "a343d721-2807-4d2b-a848-3ef2dccdd250",
   "metadata": {},
   "outputs": [
    {
     "name": "stdout",
     "output_type": "stream",
     "text": [
      "False\n"
     ]
    }
   ],
   "source": [
    "def isPowerOfTwo(n):\n",
    "    if n == 1:\n",
    "        return True\n",
    "    elif n == 0:\n",
    "        return False        \n",
    "    elif n % 2 != 0:\n",
    "        return False\n",
    "    else:\n",
    "        return isPowerOfTwo(n // 2)\n",
    "\n",
    "n = 17\n",
    "print(isPowerOfTwo(n))  "
   ]
  },
  {
   "cell_type": "markdown",
   "id": "ba132806-2d35-47d7-b3ba-5cb16bc9d2ee",
   "metadata": {},
   "source": [
    "#### 15) Power of Three"
   ]
  },
  {
   "cell_type": "code",
   "execution_count": 21,
   "id": "a725a0f4-f77f-44b6-9a54-321a30bdb2fb",
   "metadata": {},
   "outputs": [
    {
     "name": "stdout",
     "output_type": "stream",
     "text": [
      "True\n",
      "False\n"
     ]
    }
   ],
   "source": [
    "def isPowerOfThree(n):\n",
    "    if n == 1:\n",
    "        return True\n",
    "    elif n == 0:\n",
    "        return False        \n",
    "    elif n % 3 != 0:\n",
    "        return False\n",
    "    else:\n",
    "        return isPowerOfThree(n // 3)\n",
    "\n",
    "n = 9\n",
    "print(isPowerOfFour(n)) \n",
    "\n",
    "n = 64\n",
    "print(isPowerOfFour(n))"
   ]
  },
  {
   "cell_type": "markdown",
   "id": "5520d2e4-a13a-43f5-ab21-53081f730fcb",
   "metadata": {},
   "source": [
    "#### 16) Power of Four"
   ]
  },
  {
   "cell_type": "code",
   "execution_count": 17,
   "id": "5223a7ff-065e-414b-b625-6889616efcf7",
   "metadata": {},
   "outputs": [
    {
     "name": "stdout",
     "output_type": "stream",
     "text": [
      "False\n",
      "True\n"
     ]
    }
   ],
   "source": [
    "def isPowerOfFour(n):\n",
    "    if n == 1:\n",
    "        return True\n",
    "    elif n == 0:\n",
    "        return False        \n",
    "    elif n % 4 != 0:\n",
    "        return False\n",
    "    else:\n",
    "        return isPowerOfFour(n // 4)\n",
    "\n",
    "n = 17\n",
    "print(isPowerOfFour(n)) \n",
    "\n",
    "n = 64\n",
    "print(isPowerOfFour(n))  \n"
   ]
  },
  {
   "cell_type": "markdown",
   "id": "a6f627df-cc5b-463e-8d64-74a28576f269",
   "metadata": {},
   "source": [
    "#### 17) Find the nth number in a Fibonacci Series using Recursion"
   ]
  },
  {
   "cell_type": "code",
   "execution_count": 21,
   "id": "1dd5e7c6-8185-4141-9401-42369db0c2e1",
   "metadata": {},
   "outputs": [
    {
     "name": "stdin",
     "output_type": "stream",
     "text": [
      "Enter the position:  4\n"
     ]
    },
    {
     "data": {
      "text/plain": [
       "3"
      ]
     },
     "execution_count": 21,
     "metadata": {},
     "output_type": "execute_result"
    }
   ],
   "source": [
    "def fibo(n):\n",
    "    if n==1 or n==0:\n",
    "        return n \n",
    "    return fibo(n-1)+fibo(n-2)\n",
    "\n",
    "a = int(input(\"Enter the position: \"))\n",
    "fibo(a)"
   ]
  },
  {
   "cell_type": "markdown",
   "id": "4d959bd3-8198-4a21-86fe-6d8d820fb407",
   "metadata": {},
   "source": [
    "#### 18) Geekonacci Number"
   ]
  },
  {
   "cell_type": "code",
   "execution_count": 7,
   "id": "d6f8e0ae-bda9-4fb9-b2df-ea03cf5ce42f",
   "metadata": {},
   "outputs": [
    {
     "name": "stdin",
     "output_type": "stream",
     "text": [
      "Enter number of test cases:  2\n",
      " 3 6 8 4\n"
     ]
    },
    {
     "name": "stdout",
     "output_type": "stream",
     "text": [
      "17\n"
     ]
    },
    {
     "name": "stdin",
     "output_type": "stream",
     "text": [
      " 4 6 8 3\n"
     ]
    },
    {
     "name": "stdout",
     "output_type": "stream",
     "text": [
      "8\n"
     ]
    }
   ],
   "source": [
    "def geek_onacci(a, b, c, n, memo):\n",
    "    if n == 1:\n",
    "        return a\n",
    "    elif n == 2:\n",
    "        return b\n",
    "    elif n == 3:\n",
    "        return c\n",
    "    \n",
    "    if n in memo:\n",
    "        return memo[n]\n",
    "\n",
    "    memo[n] = geek_onacci(a, b, c, n-1, memo) + geek_onacci(a, b, c, n-2, memo) + geek_onacci(a, b, c, n-3, memo)\n",
    "    return memo[n]\n",
    "\n",
    "T = int(input(\"Enter number of test cases: \"))\n",
    "\n",
    "for _ in range(T):\n",
    "    A, B, C, N = map(int, input().split())\n",
    "    memo = {}\n",
    "    print(geek_onacci(A, B, C, N, memo))\n"
   ]
  },
  {
   "cell_type": "markdown",
   "id": "5b943eed-0bf3-4013-b01e-8aa4e2e74b44",
   "metadata": {},
   "source": [
    "#### 19) Special Fibonacci"
   ]
  },
  {
   "cell_type": "code",
   "execution_count": null,
   "id": "0672f007-ea19-46ba-90a7-f28ceeaa0bab",
   "metadata": {},
   "outputs": [
    {
     "name": "stdin",
     "output_type": "stream",
     "text": [
      "Enter number of test cases:  4 \n",
      " 86 77 15 \n"
     ]
    }
   ],
   "source": [
    "def special_fibonacci(a, b, n):\n",
    "    if n == 0:\n",
    "        return a\n",
    "    elif n == 1:\n",
    "        return b\n",
    "    else :\n",
    "       return special_fibonacci(a, b, n-1)**special_fibonacci(a, b, n-2)\n",
    "\n",
    "T = int(input(\"Enter number of test cases: \")) \n",
    "for _ in range(T):\n",
    "    A, B, N = map(int, input().split())\n",
    "    print(special_fibonacci(A, B, N))"
   ]
  },
  {
   "cell_type": "markdown",
   "id": "6b6cb59d-ac5a-45b3-b093-e21a60024ccc",
   "metadata": {},
   "source": [
    "##### 20) Count Number of Zeros in a Number using recursion"
   ]
  },
  {
   "cell_type": "code",
   "execution_count": 23,
   "id": "e072d9f2-aea5-4b0c-9062-5aa694a4f8b3",
   "metadata": {},
   "outputs": [
    {
     "name": "stdout",
     "output_type": "stream",
     "text": [
      "6\n"
     ]
    }
   ],
   "source": [
    "def count_zeros(n):\n",
    "    if n == 0:\n",
    "        return 1 if n == 0 else 0\n",
    "    if n % 10 == 0:\n",
    "        return 1 + count_zeros(n // 10)\n",
    "    else:\n",
    "        return count_zeros(n // 10)\n",
    "\n",
    "number = 102030006433\n",
    "print(count_zeros(number))  "
   ]
  },
  {
   "cell_type": "markdown",
   "id": "746de3bd-b964-4337-8733-74c458c7d616",
   "metadata": {},
   "source": [
    "#### 21) Number of Steps to Reduce a Number to Zero using recursion"
   ]
  },
  {
   "cell_type": "code",
   "execution_count": 1,
   "id": "da1c32c2-2ded-4ce2-b8fa-f68a8421e372",
   "metadata": {},
   "outputs": [
    {
     "name": "stdout",
     "output_type": "stream",
     "text": [
      "1015\n"
     ]
    }
   ],
   "source": [
    "def reduce_to_zero(n):\n",
    "    if n == 0:\n",
    "        return 0\n",
    "    else:\n",
    "        return 1 + reduce_to_zero(n - 1)\n",
    "\n",
    "number = 1015\n",
    "steps = reduce_to_zero(number)\n",
    "print(steps)"
   ]
  },
  {
   "cell_type": "markdown",
   "id": "a6bba390-b368-43b7-8724-7df1db843d30",
   "metadata": {},
   "source": [
    "#### 22) Find sum of Array elements using recursion"
   ]
  },
  {
   "cell_type": "code",
   "execution_count": 29,
   "id": "9381dddd-07c5-4bc0-bd2c-9a7efa3eb553",
   "metadata": {},
   "outputs": [
    {
     "name": "stdout",
     "output_type": "stream",
     "text": [
      "20\n"
     ]
    }
   ],
   "source": [
    "def recursive_sum(arr):\n",
    "    if len(arr) == 0:\n",
    "        return 0\n",
    "    else:\n",
    "        return arr[0] + recursive_sum(arr[1:])\n",
    "\n",
    "arr = [2, 2, 4, 7, 5]\n",
    "sum_of_elements = recursive_sum(arr)\n",
    "print(sum_of_elements) "
   ]
  },
  {
   "cell_type": "markdown",
   "id": "1ebfbdc2-2e92-4921-8f8f-8230f8a28521",
   "metadata": {},
   "source": [
    "#### 23) Find mean of Array elements using recursion"
   ]
  },
  {
   "cell_type": "code",
   "execution_count": 38,
   "id": "29c134cb-6bd3-4d9e-8184-934a9afb6729",
   "metadata": {},
   "outputs": [
    {
     "name": "stdout",
     "output_type": "stream",
     "text": [
      "4.0\n"
     ]
    }
   ],
   "source": [
    "def recursive_mean(arr):\n",
    "    if len(arr) == 0:\n",
    "        return None\n",
    "    sum_elements = sum(arr)\n",
    "    mean = sum_elements / len(arr)\n",
    "    return mean\n",
    "\n",
    "arr = [1, 5, 3, 6, 5]\n",
    "mean_of_elements = recursive_mean(arr)\n",
    "print(mean_of_elements)  \n"
   ]
  },
  {
   "cell_type": "markdown",
   "id": "2ac78239-08fe-4a11-9d10-433ceae39d51",
   "metadata": {},
   "source": [
    "#### 24) Find maximum and minimum of Array elements using recursion"
   ]
  },
  {
   "cell_type": "code",
   "execution_count": 39,
   "id": "c45f334c-edd1-43ec-88b3-5dbe0e61f7c7",
   "metadata": {},
   "outputs": [
    {
     "name": "stdout",
     "output_type": "stream",
     "text": [
      "Max: 9\n",
      "Min: 1\n"
     ]
    }
   ],
   "source": [
    "def recursive_max(arr):\n",
    "    if len(arr) == 1:\n",
    "        return arr[0]\n",
    "    else:\n",
    "        return max(arr[0], recursive_max(arr[1:]))\n",
    "\n",
    "def recursive_min(arr):\n",
    "    if len(arr) == 1:\n",
    "        return arr[0]\n",
    "    else:\n",
    "        return min(arr[0], recursive_min(arr[1:]))\n",
    "\n",
    "arr = [3, 1, 4, 1, 5, 9, 2, 6, 5, 3, 5]\n",
    "max_value = recursive_max(arr)\n",
    "min_value = recursive_min(arr)\n",
    "print(\"Max:\", max_value) \n",
    "print(\"Min:\", min_value)  "
   ]
  },
  {
   "cell_type": "markdown",
   "id": "ad0cac99-295b-4e90-8d6e-f137a638100a",
   "metadata": {},
   "source": [
    "#### 25) Compute the factorial of a number using recursion"
   ]
  },
  {
   "cell_type": "code",
   "execution_count": 24,
   "id": "fb9c7ad3-e8dd-4062-aad0-a5fc18cf92a4",
   "metadata": {},
   "outputs": [
    {
     "data": {
      "text/plain": [
       "120"
      ]
     },
     "execution_count": 24,
     "metadata": {},
     "output_type": "execute_result"
    }
   ],
   "source": [
    "def fact(n):\n",
    "    if n == 0 or n==1:\n",
    "        return n \n",
    "    return n*fact(n-1)\n",
    "\n",
    "fact(5)"
   ]
  },
  {
   "cell_type": "markdown",
   "id": "83233475-0a0d-4cf9-82bc-5cf269d3dafd",
   "metadata": {},
   "source": [
    "#### 26) Sum Triangle"
   ]
  },
  {
   "cell_type": "code",
   "execution_count": 26,
   "id": "72f4cfde-0863-4bdb-865e-2a96b9961c25",
   "metadata": {},
   "outputs": [
    {
     "name": "stdout",
     "output_type": "stream",
     "text": [
      "[48]\n",
      "[20, 28]\n",
      "[8, 12, 16]\n",
      "[3, 5, 7, 9]\n",
      "[1, 2, 3, 4, 5]\n"
     ]
    }
   ],
   "source": [
    "def printTriangle(A):\n",
    "\t\tif (len(A) < 1):\n",
    "\t\t\treturn\n",
    "\t\ttemp = [0] * (len(A) - 1)\n",
    "\t\tfor i in range( 0, len(A) - 1):\n",
    "\t\t\n",
    "\t\t\tx = A[i] + A[i + 1]\n",
    "\t\t\ttemp[i] = x\n",
    "\t\t\n",
    "\t\tprintTriangle(temp)\n",
    "\t\tprint(A)\n",
    "\t\n",
    "A = [ 1, 2, 3, 4, 5 ]\n",
    "printTriangle(A)"
   ]
  },
  {
   "cell_type": "markdown",
   "id": "e28d35ab-bf1e-4c70-8eb4-84be91abdc34",
   "metadata": {},
   "source": [
    "#### 27) Perform binary search using recursion"
   ]
  },
  {
   "cell_type": "code",
   "execution_count": 25,
   "id": "a51befd4-dc45-40e9-90c9-970b534ffb4f",
   "metadata": {},
   "outputs": [
    {
     "data": {
      "text/plain": [
       "3"
      ]
     },
     "execution_count": 25,
     "metadata": {},
     "output_type": "execute_result"
    }
   ],
   "source": [
    "def search(arr,target,start,end):\n",
    "    if(start>end):\n",
    "        return -1\n",
    "    mid = start + (end-start)//2\n",
    "    if(arr[mid]==target):\n",
    "        return mid\n",
    "    if(target<arr[mid]):\n",
    "        return search(arr,target,start,mid-1)\n",
    "    return search(arr,target,mid+1,end)\n",
    "    \n",
    "arr = [-1,0,4,7,8]\n",
    "target = 7\n",
    "search(arr,target,0,len(arr)-1)"
   ]
  },
  {
   "cell_type": "markdown",
   "id": "f3635ccc-aee8-4255-a920-5799d0e9f27a",
   "metadata": {},
   "source": [
    "#### 28) Perform Bubble Sort using Recursion"
   ]
  },
  {
   "cell_type": "code",
   "execution_count": 3,
   "id": "e8572e0b-f5f7-413b-b009-437f277f9fa1",
   "metadata": {},
   "outputs": [
    {
     "name": "stdout",
     "output_type": "stream",
     "text": [
      "Sorted nums1: [1, 1, 2, 3, 3, 4, 5, 5, 5, 6, 9]\n"
     ]
    }
   ],
   "source": [
    "from typing import List\n",
    "\n",
    "def swap(nums: List[int], i: int, j: int):\n",
    "    temp = nums[i]\n",
    "    nums[i] = nums[j]\n",
    "    nums[j] = temp\n",
    "\n",
    "def bubble_sort(nums: List[int]) -> List[int]:\n",
    "    n = len(nums)\n",
    "    for i in range(n):\n",
    "        flag = False\n",
    "        for j in range(0, n - 1 - i):\n",
    "            if nums[j] > nums[j + 1]:\n",
    "                flag = True\n",
    "                swap(nums, j, j + 1)\n",
    "        if not flag:\n",
    "            break\n",
    "    return nums\n",
    "\n",
    "nums1 = [3, 1, 4, 1, 5, 9, 2, 6, 5, 3, 5]\n",
    "sorted_nums1 = bubble_sort(nums1)\n",
    "print(f\"Sorted nums1: {sorted_nums1}\")\n"
   ]
  },
  {
   "cell_type": "markdown",
   "id": "bcb78159-56ac-4fe6-b1b4-d0a99b724eb1",
   "metadata": {},
   "source": [
    "#### 29) Perform Insertion Sort using Recursion"
   ]
  },
  {
   "cell_type": "code",
   "execution_count": 4,
   "id": "4ee83337-d2bb-45dd-9189-f697cc1db45f",
   "metadata": {},
   "outputs": [
    {
     "name": "stdout",
     "output_type": "stream",
     "text": [
      "Sorted nums1: [1, 1, 2, 3, 3, 4, 5, 5, 5, 6, 9]\n"
     ]
    }
   ],
   "source": [
    "from typing import List\n",
    "def insertion_sort(nums:List[int])->List[int]:\n",
    "    n = len(nums)\n",
    "    for i in range(1,n):\n",
    "        for j  in range(i,0,-1):\n",
    "            if nums[j]<nums[j-1]:\n",
    "                nums[j],nums[j-1] = nums[j-1],nums[j]\n",
    "            else:\n",
    "                break\n",
    "    return nums\n",
    "\n",
    "nums1 = [3, 1, 4, 1, 5, 9, 2, 6, 5, 3, 5]\n",
    "sorted_nums1 = insertion_sort(nums1)\n",
    "print(f\"Sorted nums1: {sorted_nums1}\")"
   ]
  },
  {
   "cell_type": "code",
   "execution_count": 1,
   "id": "6a6e76c3-9e82-4690-8076-cc5a13f8f8ac",
   "metadata": {},
   "outputs": [],
   "source": [
    "class ListNode:\n",
    "    def __init__(self, value=0, next=None):\n",
    "        self.value = value\n",
    "        self.next = next\n"
   ]
  },
  {
   "cell_type": "markdown",
   "id": "c9f5a4bf-375a-4af5-9fa8-50d43e0aac9c",
   "metadata": {},
   "source": [
    "#### 30) Reverse a Linked List using recursion"
   ]
  },
  {
   "cell_type": "code",
   "execution_count": 3,
   "id": "c57348ad-5c5a-44d7-aff3-13f20c7df3d1",
   "metadata": {},
   "outputs": [
    {
     "name": "stdout",
     "output_type": "stream",
     "text": [
      "Original Linked List:\n",
      "1 -> 2 -> 3 -> 4 -> None\n",
      "Reversed Linked List:\n",
      "4 -> 3 -> 2 -> 1 -> None\n"
     ]
    }
   ],
   "source": [
    "def reverse_linked_list(head):\n",
    "    if not head or not head.next:\n",
    "        return head\n",
    "    \n",
    "    reversed_list_head = reverse_linked_list(head.next)\n",
    "    head.next.next = head\n",
    "    head.next = None\n",
    "    \n",
    "    return reversed_list_head\n",
    "\n",
    "def print_linked_list(head):\n",
    "    current = head\n",
    "    while current:\n",
    "        print(current.value, end=\" -> \")\n",
    "        current = current.next\n",
    "    print(\"None\")\n",
    "\n",
    "head = ListNode(1, ListNode(2, ListNode(3, ListNode(4))))\n",
    "\n",
    "print(\"Original Linked List:\")\n",
    "print_linked_list(head)\n",
    "\n",
    "reversed_head = reverse_linked_list(head)\n",
    "\n",
    "print(\"Reversed Linked List:\")\n",
    "print_linked_list(reversed_head)\n"
   ]
  },
  {
   "cell_type": "markdown",
   "id": "6157d807-35e5-43d3-b145-01ef8cea6ad2",
   "metadata": {},
   "source": [
    "#### 31) Merge two sorted Linked Lists using recursion"
   ]
  },
  {
   "cell_type": "code",
   "execution_count": 7,
   "id": "49f64dfb-cc4d-4df3-861e-ce2c2e368195",
   "metadata": {},
   "outputs": [
    {
     "name": "stdout",
     "output_type": "stream",
     "text": [
      "List 1:\n",
      "1 -> 3 -> 5 -> None\n",
      "List 2:\n",
      "2 -> 4 -> 6 -> None\n",
      "Merged Linked List:\n",
      "1 -> 2 -> 3 -> 4 -> 5 -> 6 -> None\n"
     ]
    }
   ],
   "source": [
    "def merge_two_sorted_lists(l1, l2):\n",
    "    if not l1:\n",
    "        return l2\n",
    "    if not l2:\n",
    "        return l1\n",
    "    \n",
    "    if l1.value < l2.value:\n",
    "        l1.next = merge_two_sorted_lists(l1.next, l2)\n",
    "        return l1\n",
    "    else:\n",
    "        l2.next = merge_two_sorted_lists(l1, l2.next)\n",
    "        return l2\n",
    "\n",
    "def print_linked_list(head):\n",
    "    current = head\n",
    "    while current:\n",
    "        print(current.value, end=\" -> \")\n",
    "        current = current.next\n",
    "    print(\"None\")\n",
    "\n",
    "l1 = ListNode(1, ListNode(3, ListNode(5)))\n",
    "l2 = ListNode(2, ListNode(4, ListNode(6)))\n",
    "\n",
    "print(\"List 1:\")\n",
    "print_linked_list(l1)\n",
    "print(\"List 2:\")\n",
    "print_linked_list(l2)\n",
    "\n",
    "merged_head = merge_two_sorted_lists(l1, l2)\n",
    "\n",
    "print(\"Merged Linked List:\")\n",
    "print_linked_list(merged_head)\n"
   ]
  },
  {
   "cell_type": "markdown",
   "id": "ecaaa5c7-345d-4949-9861-694556aa5093",
   "metadata": {},
   "source": [
    "#### 32) Print all leaf nodes of a Binary Search Tree using recursion"
   ]
  },
  {
   "cell_type": "code",
   "execution_count": 6,
   "id": "57f0a75d-04c2-4bbb-9227-bd20d148b2ce",
   "metadata": {},
   "outputs": [
    {
     "name": "stdout",
     "output_type": "stream",
     "text": [
      "Leaf nodes of the BST:\n",
      "3 7 12 18 \n"
     ]
    }
   ],
   "source": [
    "class TreeNode:\n",
    "    def __init__(self, value=0, left=None, right=None):\n",
    "        self.value = value\n",
    "        self.left = left\n",
    "        self.right = right\n",
    "\n",
    "def print_leaf_nodes(node):\n",
    "    if node is None:\n",
    "        return\n",
    "    \n",
    "    if node.left is None and node.right is None:\n",
    "        print(node.value, end=\" \")\n",
    "        return\n",
    "    \n",
    "    if node.left:\n",
    "        print_leaf_nodes(node.left)\n",
    "    if node.right:\n",
    "        print_leaf_nodes(node.right)\n",
    "\n",
    "def insert_bst(root, value):\n",
    "    if root is None:\n",
    "        return TreeNode(value)\n",
    "    if value < root.value:\n",
    "        root.left = insert_bst(root.left, value)\n",
    "    else:\n",
    "        root.right = insert_bst(root.right, value)\n",
    "    return root\n",
    "\n",
    "values = [10, 5, 15, 3, 7, 12, 18]\n",
    "root = None\n",
    "for value in values:\n",
    "    root = insert_bst(root, value)\n",
    "\n",
    "print(\"Leaf nodes of the BST:\")\n",
    "print_leaf_nodes(root)\n",
    "print()  \n"
   ]
  },
  {
   "cell_type": "markdown",
   "id": "607ede60-2a4c-4153-972b-352be4aa542a",
   "metadata": {},
   "source": [
    "#### 33) Solve the Towers of Hanoi problem"
   ]
  },
  {
   "cell_type": "code",
   "execution_count": 28,
   "id": "fd6fc037-2c5f-4008-bbc3-7696f6d7f892",
   "metadata": {},
   "outputs": [
    {
     "name": "stdout",
     "output_type": "stream",
     "text": [
      "Move disk 1 from A to C\n",
      "Move disk 2 from A to B\n",
      "Move disk 1 from C to B\n",
      "Move disk 3 from A to C\n",
      "Move disk 1 from B to A\n",
      "Move disk 2 from B to C\n",
      "Move disk 1 from A to C\n"
     ]
    }
   ],
   "source": [
    "def towers_of_hanoi(n, source, target, auxiliary):\n",
    "    if n == 1:\n",
    "        print(f\"Move disk 1 from {source} to {target}\")\n",
    "        return\n",
    "    towers_of_hanoi(n - 1, source, auxiliary, target)\n",
    "    print(f\"Move disk {n} from {source} to {target}\")\n",
    "    towers_of_hanoi(n - 1, auxiliary, target, source)\n",
    "\n",
    "n = 3 \n",
    "towers_of_hanoi(n, 'A', 'C', 'B')\n"
   ]
  },
  {
   "cell_type": "markdown",
   "id": "c02cbf3d-96cb-46c5-bdc4-f10cfcfd604f",
   "metadata": {},
   "source": [
    "#### 34) Compute the GCD of two numbers using Euclidean Algorithm"
   ]
  },
  {
   "cell_type": "code",
   "execution_count": 27,
   "id": "b8f4caac-dd13-4941-9461-73157a6df89d",
   "metadata": {},
   "outputs": [
    {
     "name": "stdout",
     "output_type": "stream",
     "text": [
      "14\n"
     ]
    }
   ],
   "source": [
    "def gcd(a, b):\n",
    "    while b != 0:\n",
    "        a, b = b, a % b\n",
    "    return a\n",
    "\n",
    "num1 = 56\n",
    "num2 = 98\n",
    "print(gcd(num1, num2))\n"
   ]
  }
 ],
 "metadata": {
  "kernelspec": {
   "display_name": "Python 3 (ipykernel)",
   "language": "python",
   "name": "python3"
  },
  "language_info": {
   "codemirror_mode": {
    "name": "ipython",
    "version": 3
   },
   "file_extension": ".py",
   "mimetype": "text/x-python",
   "name": "python",
   "nbconvert_exporter": "python",
   "pygments_lexer": "ipython3",
   "version": "3.11.7"
  }
 },
 "nbformat": 4,
 "nbformat_minor": 5
}
